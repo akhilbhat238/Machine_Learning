{
 "cells": [
  {
   "cell_type": "code",
   "execution_count": 20,
   "id": "fa1c7df0",
   "metadata": {},
   "outputs": [],
   "source": [
    "import numpy as np\n",
    "import pandas as pd"
   ]
  },
  {
   "cell_type": "code",
   "execution_count": 21,
   "id": "769c2210",
   "metadata": {},
   "outputs": [],
   "source": [
    "import spotipy\n",
    "from spotipy.oauth2 import SpotifyClientCredentials"
   ]
  },
  {
   "cell_type": "code",
   "execution_count": 22,
   "id": "45347e42",
   "metadata": {},
   "outputs": [],
   "source": [
    "from sklearn.metrics.pairwise import cosine_similarity"
   ]
  },
  {
   "cell_type": "code",
   "execution_count": 23,
   "id": "0084a32b",
   "metadata": {},
   "outputs": [],
   "source": [
    "playlistDF_test = pd.read_csv('C:\\\\Users\\\\Akhil_S_Bhat\\\\Documents\\\\AIML\\\\Machine_Learning\\\\Unsupervised Learning\\\\Data\\\\3_Spotify_Data\\\\spotify_test_data.csv')"
   ]
  },
  {
   "cell_type": "code",
   "execution_count": 24,
   "id": "9b885cf5",
   "metadata": {},
   "outputs": [],
   "source": [
    "complete_feature_set = pd.read_csv('C:\\\\Users\\\\Akhil_S_Bhat\\\\Documents\\\\AIML\\\\Machine_Learning\\\\Unsupervised Learning\\\\Data\\\\3_Spotify_Data\\\\complete_feature.csv')"
   ]
  },
  {
   "cell_type": "code",
   "execution_count": 25,
   "id": "b22110e2",
   "metadata": {},
   "outputs": [],
   "source": [
    "complete_feature_set_playlist = complete_feature_set[complete_feature_set['id'].isin(playlistDF_test['id'].values)]"
   ]
  },
  {
   "cell_type": "code",
   "execution_count": 26,
   "id": "f1ef163b",
   "metadata": {},
   "outputs": [],
   "source": [
    "complete_feature_set_nonplaylist = complete_feature_set[~complete_feature_set['id'].isin(playlistDF_test['id'].values)]"
   ]
  },
  {
   "cell_type": "code",
   "execution_count": 27,
   "id": "bc2a7ec7",
   "metadata": {},
   "outputs": [],
   "source": [
    "complete_feature_set_playlist_vector = complete_feature_set_playlist.drop(columns=['Unnamed: 0','id','artist_name','track_name','artist_uri','album_uri','album_name','genres']).sum(axis=0)"
   ]
  },
  {
   "cell_type": "code",
   "execution_count": 28,
   "id": "29cb3289",
   "metadata": {},
   "outputs": [
    {
     "data": {
      "text/html": [
       "<div>\n",
       "<style scoped>\n",
       "    .dataframe tbody tr th:only-of-type {\n",
       "        vertical-align: middle;\n",
       "    }\n",
       "\n",
       "    .dataframe tbody tr th {\n",
       "        vertical-align: top;\n",
       "    }\n",
       "\n",
       "    .dataframe thead th {\n",
       "        text-align: right;\n",
       "    }\n",
       "</style>\n",
       "<table border=\"1\" class=\"dataframe\">\n",
       "  <thead>\n",
       "    <tr style=\"text-align: right;\">\n",
       "      <th></th>\n",
       "      <th>artist_name</th>\n",
       "      <th>track_uri</th>\n",
       "      <th>artist_uri</th>\n",
       "      <th>track_name</th>\n",
       "      <th>album_uri</th>\n",
       "      <th>duration_ms</th>\n",
       "      <th>album_name</th>\n",
       "    </tr>\n",
       "  </thead>\n",
       "  <tbody>\n",
       "    <tr>\n",
       "      <th>0</th>\n",
       "      <td>Creedence Clearwater Revival</td>\n",
       "      <td>2LawezPeJhN4AWuSB0GtAU</td>\n",
       "      <td>spotify:artist:3IYUhFvPQItj6xySrBmZkd</td>\n",
       "      <td>Have You Ever Seen The Rain</td>\n",
       "      <td>spotify:album:372cMadhAGlNuDnc8TssqF</td>\n",
       "      <td>160133</td>\n",
       "      <td>Pendulum (40th Anniversary Edition)</td>\n",
       "    </tr>\n",
       "    <tr>\n",
       "      <th>1</th>\n",
       "      <td>Queen</td>\n",
       "      <td>4rDbp1vnvEhieiccprPMdI</td>\n",
       "      <td>spotify:artist:1dfeR4HaWDbWqFHLkxsg1d</td>\n",
       "      <td>Somebody To Love - Remastered 2011</td>\n",
       "      <td>spotify:album:4KZGe18wZJbXL6JLW4KyLc</td>\n",
       "      <td>296480</td>\n",
       "      <td>A Day At The Races (Deluxe Edition 2011 Remaster)</td>\n",
       "    </tr>\n",
       "    <tr>\n",
       "      <th>2</th>\n",
       "      <td>TOTO</td>\n",
       "      <td>2374M0fQpWi3dLnB54qaLX</td>\n",
       "      <td>spotify:artist:0PFtn5NtBbbUNbU9EAmIWF</td>\n",
       "      <td>Africa</td>\n",
       "      <td>spotify:album:62U7xIHcID94o20Of5ea4D</td>\n",
       "      <td>295893</td>\n",
       "      <td>Toto IV</td>\n",
       "    </tr>\n",
       "    <tr>\n",
       "      <th>3</th>\n",
       "      <td>Boston</td>\n",
       "      <td>1QEEqeFIZktqIpPI4jSVSF</td>\n",
       "      <td>spotify:artist:29kkCKKGXheHuoO829FxWK</td>\n",
       "      <td>More Than a Feeling</td>\n",
       "      <td>spotify:album:2QLp07RO6anZHmtcKTEvSC</td>\n",
       "      <td>285133</td>\n",
       "      <td>Boston</td>\n",
       "    </tr>\n",
       "    <tr>\n",
       "      <th>4</th>\n",
       "      <td>Bon Jovi</td>\n",
       "      <td>37ZJ0p5Jm13JPevGcx4SkF</td>\n",
       "      <td>spotify:artist:58lV9VcRSjABbAbfWS6skp</td>\n",
       "      <td>Livin' On A Prayer</td>\n",
       "      <td>spotify:album:0kBfgEilUFCMIQY5IOjG4t</td>\n",
       "      <td>249293</td>\n",
       "      <td>Slippery When Wet</td>\n",
       "    </tr>\n",
       "  </tbody>\n",
       "</table>\n",
       "</div>"
      ],
      "text/plain": [
       "                    artist_name               track_uri  \\\n",
       "0  Creedence Clearwater Revival  2LawezPeJhN4AWuSB0GtAU   \n",
       "1                         Queen  4rDbp1vnvEhieiccprPMdI   \n",
       "2                          TOTO  2374M0fQpWi3dLnB54qaLX   \n",
       "3                        Boston  1QEEqeFIZktqIpPI4jSVSF   \n",
       "4                      Bon Jovi  37ZJ0p5Jm13JPevGcx4SkF   \n",
       "\n",
       "                              artist_uri                          track_name  \\\n",
       "0  spotify:artist:3IYUhFvPQItj6xySrBmZkd         Have You Ever Seen The Rain   \n",
       "1  spotify:artist:1dfeR4HaWDbWqFHLkxsg1d  Somebody To Love - Remastered 2011   \n",
       "2  spotify:artist:0PFtn5NtBbbUNbU9EAmIWF                              Africa   \n",
       "3  spotify:artist:29kkCKKGXheHuoO829FxWK                 More Than a Feeling   \n",
       "4  spotify:artist:58lV9VcRSjABbAbfWS6skp                  Livin' On A Prayer   \n",
       "\n",
       "                              album_uri  duration_ms  \\\n",
       "0  spotify:album:372cMadhAGlNuDnc8TssqF       160133   \n",
       "1  spotify:album:4KZGe18wZJbXL6JLW4KyLc       296480   \n",
       "2  spotify:album:62U7xIHcID94o20Of5ea4D       295893   \n",
       "3  spotify:album:2QLp07RO6anZHmtcKTEvSC       285133   \n",
       "4  spotify:album:0kBfgEilUFCMIQY5IOjG4t       249293   \n",
       "\n",
       "                                          album_name  \n",
       "0                Pendulum (40th Anniversary Edition)  \n",
       "1  A Day At The Races (Deluxe Edition 2011 Remaster)  \n",
       "2                                            Toto IV  \n",
       "3                                             Boston  \n",
       "4                                  Slippery When Wet  "
      ]
     },
     "execution_count": 28,
     "metadata": {},
     "output_type": "execute_result"
    }
   ],
   "source": [
    "client_credentials_manager = SpotifyClientCredentials(client_id='cf5e39da3b50438493846ee960df886d',client_secret='23e7cc1dcb4f4836bc594667c6e2cef3')\n",
    "sp = spotipy.Spotify(client_credentials_manager=client_credentials_manager)\n",
    "\n",
    "playlist = sp.playlist('5j14kA383XcoO33Px4HFPL')\n",
    "\n",
    "playlist_df = pd.DataFrame(columns=['artist_name','track_uri','artist_uri','track_name','album_uri','duration_ms','album_name'])\n",
    "\n",
    "for i in range(0,len(playlist['tracks']['items'])):\n",
    "    attribute_list=[]\n",
    "    attribute_list.append(playlist['tracks']['items'][i]['track']['artists'][0]['name'])\n",
    "    attribute_list.append(playlist['tracks']['items'][i]['track']['uri'])\n",
    "    attribute_list.append(playlist['tracks']['items'][i]['track']['artists'][0]['uri'])\n",
    "    attribute_list.append(playlist['tracks']['items'][i]['track']['name'])\n",
    "    attribute_list.append(playlist['tracks']['items'][i]['track']['album']['uri'])\n",
    "    attribute_list.append(playlist['tracks']['items'][i]['track']['duration_ms'])\n",
    "    attribute_list.append(playlist['tracks']['items'][i]['track']['album']['name'])\n",
    "    playlist_df.loc[len(playlist_df)] = attribute_list\n",
    "\n",
    "playlist_df['track_uri'] = playlist_df['track_uri'].apply(lambda x:x[x.rfind(':')+1:])\n",
    "\n",
    "playlist_df.head()"
   ]
  },
  {
   "cell_type": "code",
   "execution_count": 29,
   "id": "510b27ec",
   "metadata": {},
   "outputs": [
    {
     "data": {
      "text/plain": [
       "(92, 7)"
      ]
     },
     "execution_count": 29,
     "metadata": {},
     "output_type": "execute_result"
    }
   ],
   "source": [
    "playlist_df.shape"
   ]
  },
  {
   "cell_type": "code",
   "execution_count": 30,
   "id": "7e37172d",
   "metadata": {},
   "outputs": [],
   "source": [
    "non_playlist_df = playlist_df[playlist_df['track_uri'].isin(complete_feature_set_nonplaylist['id'].values)]"
   ]
  },
  {
   "cell_type": "code",
   "execution_count": 31,
   "id": "e498d842",
   "metadata": {},
   "outputs": [
    {
     "data": {
      "text/plain": [
       "1"
      ]
     },
     "execution_count": 31,
     "metadata": {},
     "output_type": "execute_result"
    }
   ],
   "source": [
    "len(complete_feature_set_playlist_vector.values.reshape(1, -1))"
   ]
  },
  {
   "cell_type": "code",
   "execution_count": 32,
   "id": "e16420cf",
   "metadata": {},
   "outputs": [],
   "source": [
    "complete_feature_set_nonplaylist = complete_feature_set_nonplaylist.drop(columns=['Unnamed: 0','id','artist_name','track_name','artist_uri','album_uri','album_name','genres'],axis=1)"
   ]
  },
  {
   "cell_type": "code",
   "execution_count": 33,
   "id": "ed3bfc61",
   "metadata": {},
   "outputs": [],
   "source": [
    "non_playlist_df = non_playlist_df.drop_duplicates()"
   ]
  },
  {
   "cell_type": "code",
   "execution_count": 34,
   "id": "51beed56",
   "metadata": {},
   "outputs": [
    {
     "data": {
      "text/plain": [
       "(41, 7)"
      ]
     },
     "execution_count": 34,
     "metadata": {},
     "output_type": "execute_result"
    }
   ],
   "source": [
    "non_playlist_df.shape"
   ]
  },
  {
   "cell_type": "code",
   "execution_count": 35,
   "id": "c1dd3102",
   "metadata": {},
   "outputs": [],
   "source": [
    "non_playlist_df['sim'] = cosine_similarity(complete_feature_set_nonplaylist.values, complete_feature_set_playlist_vector.values.reshape(1, -1))[:,0]"
   ]
  },
  {
   "cell_type": "code",
   "execution_count": 36,
   "id": "b498fed0",
   "metadata": {},
   "outputs": [],
   "source": [
    "non_playlist_df_top_10 = non_playlist_df.sort_values('sim',ascending = False).head(10)"
   ]
  },
  {
   "cell_type": "code",
   "execution_count": 37,
   "id": "f2cf01bb",
   "metadata": {},
   "outputs": [
    {
     "data": {
      "text/html": [
       "<div>\n",
       "<style scoped>\n",
       "    .dataframe tbody tr th:only-of-type {\n",
       "        vertical-align: middle;\n",
       "    }\n",
       "\n",
       "    .dataframe tbody tr th {\n",
       "        vertical-align: top;\n",
       "    }\n",
       "\n",
       "    .dataframe thead th {\n",
       "        text-align: right;\n",
       "    }\n",
       "</style>\n",
       "<table border=\"1\" class=\"dataframe\">\n",
       "  <thead>\n",
       "    <tr style=\"text-align: right;\">\n",
       "      <th></th>\n",
       "      <th>artist_name</th>\n",
       "      <th>track_name</th>\n",
       "    </tr>\n",
       "  </thead>\n",
       "  <tbody>\n",
       "    <tr>\n",
       "      <th>49</th>\n",
       "      <td>Neil Young</td>\n",
       "      <td>Rockin' in the Free World</td>\n",
       "    </tr>\n",
       "    <tr>\n",
       "      <th>75</th>\n",
       "      <td>Led Zeppelin</td>\n",
       "      <td>Whole Lotta Love - 1990 Remaster</td>\n",
       "    </tr>\n",
       "    <tr>\n",
       "      <th>33</th>\n",
       "      <td>Queen</td>\n",
       "      <td>Bohemian Rhapsody - Remastered 2011</td>\n",
       "    </tr>\n",
       "    <tr>\n",
       "      <th>65</th>\n",
       "      <td>Journey</td>\n",
       "      <td>Separate Ways (Worlds Apart)</td>\n",
       "    </tr>\n",
       "    <tr>\n",
       "      <th>19</th>\n",
       "      <td>Queen</td>\n",
       "      <td>Somebody To Love - Remastered 2011</td>\n",
       "    </tr>\n",
       "    <tr>\n",
       "      <th>46</th>\n",
       "      <td>Pink Floyd</td>\n",
       "      <td>Hey You</td>\n",
       "    </tr>\n",
       "    <tr>\n",
       "      <th>1</th>\n",
       "      <td>Queen</td>\n",
       "      <td>Somebody To Love - Remastered 2011</td>\n",
       "    </tr>\n",
       "    <tr>\n",
       "      <th>58</th>\n",
       "      <td>Scorpions</td>\n",
       "      <td>Rock You Like a Hurricane</td>\n",
       "    </tr>\n",
       "    <tr>\n",
       "      <th>22</th>\n",
       "      <td>U2</td>\n",
       "      <td>Sunday Bloody Sunday - Remastered 2008</td>\n",
       "    </tr>\n",
       "    <tr>\n",
       "      <th>9</th>\n",
       "      <td>Alice Cooper</td>\n",
       "      <td>Poison</td>\n",
       "    </tr>\n",
       "  </tbody>\n",
       "</table>\n",
       "</div>"
      ],
      "text/plain": [
       "     artist_name                              track_name\n",
       "49    Neil Young               Rockin' in the Free World\n",
       "75  Led Zeppelin        Whole Lotta Love - 1990 Remaster\n",
       "33         Queen     Bohemian Rhapsody - Remastered 2011\n",
       "65       Journey            Separate Ways (Worlds Apart)\n",
       "19         Queen      Somebody To Love - Remastered 2011\n",
       "46    Pink Floyd                                 Hey You\n",
       "1          Queen      Somebody To Love - Remastered 2011\n",
       "58     Scorpions               Rock You Like a Hurricane\n",
       "22            U2  Sunday Bloody Sunday - Remastered 2008\n",
       "9   Alice Cooper                                  Poison"
      ]
     },
     "execution_count": 37,
     "metadata": {},
     "output_type": "execute_result"
    }
   ],
   "source": [
    "non_playlist_df_top_10[['artist_name','track_name']]"
   ]
  }
 ],
 "metadata": {
  "kernelspec": {
   "display_name": "Python 3 (ipykernel)",
   "language": "python",
   "name": "python3"
  },
  "language_info": {
   "codemirror_mode": {
    "name": "ipython",
    "version": 3
   },
   "file_extension": ".py",
   "mimetype": "text/x-python",
   "name": "python",
   "nbconvert_exporter": "python",
   "pygments_lexer": "ipython3",
   "version": "3.9.10"
  }
 },
 "nbformat": 4,
 "nbformat_minor": 5
}
