{
 "cells": [
  {
   "cell_type": "markdown",
   "id": "06906202",
   "metadata": {},
   "source": [
    "### Import necessary packages"
   ]
  },
  {
   "cell_type": "code",
   "execution_count": 213,
   "id": "ffca0405",
   "metadata": {},
   "outputs": [],
   "source": [
    "import requests\n",
    "import numpy as np\n",
    "import pandas as pd\n",
    "from bs4 import BeautifulSoup\n",
    "from sklearn.feature_extraction.text import TfidfVectorizer\n",
    "from sklearn.decomposition import TruncatedSVD\n",
    "from sklearn.cluster import KMeans\n",
    "from sklearn.pipeline import make_pipeline"
   ]
  },
  {
   "cell_type": "markdown",
   "id": "d166b964",
   "metadata": {},
   "source": [
    "### Connect to Target website, retrieve links for articles"
   ]
  },
  {
   "cell_type": "code",
   "execution_count": 214,
   "id": "a5982251",
   "metadata": {},
   "outputs": [],
   "source": [
    "main_url = 'https://www.theguardian.com/football'\n",
    "main_request = requests.get(main_url)\n",
    "main_soup = BeautifulSoup(main_request.content,'html5lib')"
   ]
  },
  {
   "cell_type": "code",
   "execution_count": 215,
   "id": "dffa51fc",
   "metadata": {},
   "outputs": [],
   "source": [
    "main_all_links=[]\n",
    "main_item__containers = main_soup.findAll('div',attrs={'class':'fc-item__container'})\n",
    "for main_item__container in main_item__containers:\n",
    "    main_links = main_item__container.findAll('a')\n",
    "    for main_link in main_links:\n",
    "        main_all_links.append(main_link['href'])"
   ]
  },
  {
   "cell_type": "markdown",
   "id": "1caf2ba1",
   "metadata": {},
   "source": [
    "### Remove non article links"
   ]
  },
  {
   "cell_type": "code",
   "execution_count": 216,
   "id": "b56d1fa4",
   "metadata": {},
   "outputs": [],
   "source": [
    "main_unique_links = np.unique(np.array(main_all_links))\n",
    "\n",
    "main_unique_links = main_unique_links.tolist()\n",
    "\n",
    "for i in main_unique_links:\n",
    "    if 'www.instagram.com' in i:\n",
    "        main_unique_links.remove(i)"
   ]
  },
  {
   "cell_type": "markdown",
   "id": "a52f6d1e",
   "metadata": {},
   "source": [
    "### Use Beautiful Soup to scrape each article for headline and text."
   ]
  },
  {
   "cell_type": "code",
   "execution_count": 217,
   "id": "e9aff576",
   "metadata": {},
   "outputs": [],
   "source": [
    "article_df = pd.DataFrame(columns=['link','articleHeadline','articleText'])\n",
    "for unique_link in main_unique_links:\n",
    "    article_url = unique_link\n",
    "    article_request = requests.get(article_url)\n",
    "    article_soup = BeautifulSoup(article_request.content,'html5lib')\n",
    "    article_headline = article_soup.findAll('h1')[0].get_text()\n",
    "    article_content = article_soup.findAll('p',attrs={'class':'dcr-18hrynw'})\n",
    "    article_text = ''\n",
    "    for text_section in article_content:\n",
    "        article_text = article_text + text_section.get_text() + ' ' \n",
    "#     print(article_text)\n",
    "    article_df.loc[len(article_df)] = [unique_link,article_headline,article_text]"
   ]
  },
  {
   "cell_type": "markdown",
   "id": "4f38c2f7",
   "metadata": {},
   "source": [
    "### Remove links which are not actual articles like quiz and interactables"
   ]
  },
  {
   "cell_type": "code",
   "execution_count": 218,
   "id": "ed266820",
   "metadata": {},
   "outputs": [],
   "source": [
    "actual_articles = article_df[article_df['articleText']!='']"
   ]
  },
  {
   "cell_type": "code",
   "execution_count": 219,
   "id": "b1fe0175",
   "metadata": {},
   "outputs": [],
   "source": [
    "actual_article_text_list = actual_articles['articleText'].tolist()"
   ]
  },
  {
   "cell_type": "markdown",
   "id": "ab479514",
   "metadata": {},
   "source": [
    "### Convert list of article text into a Sparse Matrix"
   ]
  },
  {
   "cell_type": "code",
   "execution_count": 220,
   "id": "4e088a28",
   "metadata": {},
   "outputs": [
    {
     "name": "stderr",
     "output_type": "stream",
     "text": [
      "C:\\Users\\Akhil_S_Bhat\\AppData\\Local\\Programs\\Python\\Python39\\lib\\site-packages\\sklearn\\utils\\deprecation.py:87: FutureWarning: Function get_feature_names is deprecated; get_feature_names is deprecated in 1.0 and will be removed in 1.2. Please use get_feature_names_out instead.\n",
      "  warnings.warn(msg, category=FutureWarning)\n"
     ]
    }
   ],
   "source": [
    "tfidf = TfidfVectorizer() \n",
    "csr_mat = tfidf.fit_transform(actual_article_text_list)\n",
    "words = tfidf.get_feature_names()"
   ]
  },
  {
   "cell_type": "code",
   "execution_count": 221,
   "id": "ceab310f",
   "metadata": {},
   "outputs": [
    {
     "data": {
      "text/plain": [
       "scipy.sparse.csr.csr_matrix"
      ]
     },
     "execution_count": 221,
     "metadata": {},
     "output_type": "execute_result"
    }
   ],
   "source": [
    "type(csr_mat)"
   ]
  },
  {
   "cell_type": "markdown",
   "id": "917f0909",
   "metadata": {},
   "source": [
    "### Create an ML Pipeline with Truncated SVD for dimension reduction and run it through a KMeans Clustering model"
   ]
  },
  {
   "cell_type": "code",
   "execution_count": 222,
   "id": "e8f684c7",
   "metadata": {},
   "outputs": [],
   "source": [
    "svd = TruncatedSVD(n_components=50)\n",
    "kmeans = KMeans(n_clusters=6)\n",
    "pipeline = make_pipeline(svd,kmeans)"
   ]
  },
  {
   "cell_type": "markdown",
   "id": "86fc05b5",
   "metadata": {},
   "source": [
    "### Fit the pipeline to the article text sparse matrix and perform clustering"
   ]
  },
  {
   "cell_type": "code",
   "execution_count": 223,
   "id": "17d1a79d",
   "metadata": {},
   "outputs": [],
   "source": [
    "pipeline.fit(csr_mat)\n",
    "\n",
    "labels = pipeline.predict(csr_mat)\n",
    "titles = actual_articles['articleHeadline']\n",
    "clustered_df = pd.DataFrame({'label': labels, 'article': titles})\n",
    "clustered_df = clustered_df.sort_values(by='label',ascending=True)"
   ]
  },
  {
   "cell_type": "markdown",
   "id": "9fe67d41",
   "metadata": {},
   "source": [
    "### Display final clustured data"
   ]
  },
  {
   "cell_type": "code",
   "execution_count": 224,
   "id": "cdeff2d8",
   "metadata": {},
   "outputs": [
    {
     "name": "stdout",
     "output_type": "stream",
     "text": [
      "Cluster Label:  0\n",
      "Burnley v Liverpool: match preview\n",
      "Tottenham v Wolves: match preview\n",
      "Leicester v West Ham: match preview\n",
      "Cluster Label:  1\n",
      "Raheem Sterling hits hat-trick in easy Manchester City win at Norwich\n",
      "Brentford held by Crystal Palace after welcoming Christian Eriksen\n",
      "Neal Maupay stunner inspires Brighton to victory against struggling Watford\n",
      "The Joy of Six: Leeds United v Liverpool Premier League meetings\n",
      "European roundup: Bayern Munich suffer shock defeat at Bochum\n",
      "Nagelsmann v Tedesco lives up to hype as Leipzig push Bayern all the way\n",
      "Michael Keane helps sink Leeds to give Frank Lampard first Everton league win\n",
      "Championship roundup: Mitrovic fires Fulham again as Bournemouth rally\n",
      "Women’s Super League: talking points from the weekend’s action\n",
      "Africa Cup of Nations review: sorrow, anger and Mané’s redemption \n",
      "Harry Kane single-handedly offers glimmer of light amid gloom at Spurs\n",
      "Lessons from Concacaf qualifying: US insecurity in the cold and Canada’s surge\n",
      "Athletic Bilbao strike late to send Real Madrid crashing out of Copa del Rey\n",
      "Which football clubs have won major trophies across three centuries?\n",
      "Ché Adams strikes to grab point for Southampton at Manchester United\n",
      "The race for Champions League places in Ligue 1 will be decided by tactics\n",
      "Scottish roundup: Helander on target as Rangers coast past Annan\n",
      "Cluster Label:  2\n",
      "Newcastle v Aston Villa: match preview\n",
      "Cluster Label:  3\n",
      "Arsenal’s Rafaelle Souza: ‘Players from Bahia have a special spice’\n",
      "Miedema pulls strings from midfield before Chelsea pull out the scissors \n",
      "Manchester United’s Leah Galton: ‘You go that extra mile in the derby’\n",
      "Cluster Label:  4\n",
      "The forgotten story of … Jimmy Hasty, Irish football's one-armed wonder\n",
      "The end of an era: football programmes – outdated or great pieces of history?\n",
      "Saint-Maximin’s relentless brilliance brings hope for Howe’s neo-Newcastle\n",
      "Notorious match-fixer Solti’s game of fine margins echoes down the years\n",
      "Wycombe’s Matt Bloomfield retires: ‘I forget simple words – it scares me’\n",
      "From game on to game over? Sevilla rue what might have been in La Liga\n",
      "Giroud shrugs off shirt curse to put Milan on cloud nine in derby victory\n",
      "Chelsea crowned world champions after Kai Havertz penalty sinks Palmeiras\n",
      "Sunderland appoint Alex Neil as head coach on 12-month rolling deal\n",
      "‘A miracle’: Omar Elabdellaoui’s road back from blindness to football\n",
      "Chelsea have a crack at pretending to care about the Club World Cup\n",
      "Moyes to continue picking Zouma after cat video and calls for ‘bit of forgiveness’\n",
      "Harry Souttar: ‘Until last season, I never really felt like a Stoke player’\n",
      "Campaigners take three-day march in push to end football’s gambling habit\n",
      "Australian football must broaden its scope if Socceroos and Matildas are to exit current mire \n",
      "Overmars ‘ashamed’ after quitting Ajax over inappropriate messages\n",
      "‘We play to forget what happened’: football’s refuge for girls who fled atrocities\n",
      "Afghanistan women’s football team reunite with hopes of competing in Australia\n",
      "January window displayed which Premier League clubs have a plan\n",
      "From Jadon Sancho to Alexander Isak: what happened to Next Generation 2016?\n",
      "Sadio Mané’s best is yet to come at Liverpool, says Jürgen Klopp\n",
      "‘Darkest moment in our history’: Raith fans on David Goodwillie row\n",
      "Cluster Label:  5\n",
      "The Fiver: get the Guardian's daily football email\n"
     ]
    }
   ],
   "source": [
    "for label in clustered_df['label'].unique():\n",
    "    print('Cluster Label: ',label)\n",
    "    for article in clustered_df[clustered_df['label']==label]['article'].tolist():\n",
    "        print(article)"
   ]
  }
 ],
 "metadata": {
  "kernelspec": {
   "display_name": "Python 3 (ipykernel)",
   "language": "python",
   "name": "python3"
  },
  "language_info": {
   "codemirror_mode": {
    "name": "ipython",
    "version": 3
   },
   "file_extension": ".py",
   "mimetype": "text/x-python",
   "name": "python",
   "nbconvert_exporter": "python",
   "pygments_lexer": "ipython3",
   "version": "3.9.10"
  }
 },
 "nbformat": 4,
 "nbformat_minor": 5
}
