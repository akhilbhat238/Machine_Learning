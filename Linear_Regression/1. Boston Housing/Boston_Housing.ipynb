{
 "cells": [
  {
   "cell_type": "markdown",
   "id": "9d423f74",
   "metadata": {},
   "source": [
    "## Making the necessary Imports"
   ]
  },
  {
   "cell_type": "code",
   "execution_count": 1,
   "id": "f9eb2d4a",
   "metadata": {},
   "outputs": [],
   "source": [
    "import numpy as np\n",
    "import pandas as pd\n",
    "import matplotlib.pyplot as plt\n",
    "from sklearn.model_selection import train_test_split\n",
    "from sklearn.linear_model import LinearRegression\n",
    "from sklearn.metrics import mean_squared_error\n",
    "from sklearn.preprocessing import scale\n",
    "from sklearn.model_selection import cross_val_score\n",
    "from sklearn.linear_model import Lasso\n",
    "from sklearn.linear_model import Ridge\n",
    "from sklearn.model_selection import GridSearchCV\n",
    "import seaborn as sns\n"
   ]
  },
  {
   "cell_type": "markdown",
   "id": "a274d8ae",
   "metadata": {},
   "source": [
    "## Load the Boston Housing DataSet"
   ]
  },
  {
   "cell_type": "code",
   "execution_count": 2,
   "id": "8244e8dd",
   "metadata": {},
   "outputs": [
    {
     "data": {
      "text/plain": [
       "sklearn.utils.Bunch"
      ]
     },
     "execution_count": 2,
     "metadata": {},
     "output_type": "execute_result"
    }
   ],
   "source": [
    "from sklearn.datasets import load_boston\n",
    "boston_data = load_boston()\n",
    "type(boston_data)"
   ]
  },
  {
   "cell_type": "code",
   "execution_count": 7,
   "id": "99601dee",
   "metadata": {},
   "outputs": [
    {
     "data": {
      "text/plain": [
       "array(['CRIM', 'ZN', 'INDUS', 'CHAS', 'NOX', 'RM', 'AGE', 'DIS', 'RAD',\n",
       "       'TAX', 'PTRATIO', 'B', 'LSTAT'], dtype='<U7')"
      ]
     },
     "execution_count": 7,
     "metadata": {},
     "output_type": "execute_result"
    }
   ],
   "source": [
    "boston_data.feature_names"
   ]
  },
  {
   "cell_type": "code",
   "execution_count": 4,
   "id": "22cebf04",
   "metadata": {},
   "outputs": [],
   "source": [
    "boston_df=pd.DataFrame(data=np.c_[boston_data['data'],boston_data['target']])"
   ]
  },
  {
   "cell_type": "code",
   "execution_count": 5,
   "id": "5dc76fc4",
   "metadata": {},
   "outputs": [
    {
     "data": {
      "text/html": [
       "<div>\n",
       "<style scoped>\n",
       "    .dataframe tbody tr th:only-of-type {\n",
       "        vertical-align: middle;\n",
       "    }\n",
       "\n",
       "    .dataframe tbody tr th {\n",
       "        vertical-align: top;\n",
       "    }\n",
       "\n",
       "    .dataframe thead th {\n",
       "        text-align: right;\n",
       "    }\n",
       "</style>\n",
       "<table border=\"1\" class=\"dataframe\">\n",
       "  <thead>\n",
       "    <tr style=\"text-align: right;\">\n",
       "      <th></th>\n",
       "      <th>0</th>\n",
       "      <th>1</th>\n",
       "      <th>2</th>\n",
       "      <th>3</th>\n",
       "      <th>4</th>\n",
       "      <th>5</th>\n",
       "      <th>6</th>\n",
       "      <th>7</th>\n",
       "      <th>8</th>\n",
       "      <th>9</th>\n",
       "      <th>10</th>\n",
       "      <th>11</th>\n",
       "      <th>12</th>\n",
       "      <th>13</th>\n",
       "    </tr>\n",
       "  </thead>\n",
       "  <tbody>\n",
       "    <tr>\n",
       "      <th>0</th>\n",
       "      <td>0.00632</td>\n",
       "      <td>18.0</td>\n",
       "      <td>2.31</td>\n",
       "      <td>0.0</td>\n",
       "      <td>0.538</td>\n",
       "      <td>6.575</td>\n",
       "      <td>65.2</td>\n",
       "      <td>4.0900</td>\n",
       "      <td>1.0</td>\n",
       "      <td>296.0</td>\n",
       "      <td>15.3</td>\n",
       "      <td>396.90</td>\n",
       "      <td>4.98</td>\n",
       "      <td>24.0</td>\n",
       "    </tr>\n",
       "    <tr>\n",
       "      <th>1</th>\n",
       "      <td>0.02731</td>\n",
       "      <td>0.0</td>\n",
       "      <td>7.07</td>\n",
       "      <td>0.0</td>\n",
       "      <td>0.469</td>\n",
       "      <td>6.421</td>\n",
       "      <td>78.9</td>\n",
       "      <td>4.9671</td>\n",
       "      <td>2.0</td>\n",
       "      <td>242.0</td>\n",
       "      <td>17.8</td>\n",
       "      <td>396.90</td>\n",
       "      <td>9.14</td>\n",
       "      <td>21.6</td>\n",
       "    </tr>\n",
       "    <tr>\n",
       "      <th>2</th>\n",
       "      <td>0.02729</td>\n",
       "      <td>0.0</td>\n",
       "      <td>7.07</td>\n",
       "      <td>0.0</td>\n",
       "      <td>0.469</td>\n",
       "      <td>7.185</td>\n",
       "      <td>61.1</td>\n",
       "      <td>4.9671</td>\n",
       "      <td>2.0</td>\n",
       "      <td>242.0</td>\n",
       "      <td>17.8</td>\n",
       "      <td>392.83</td>\n",
       "      <td>4.03</td>\n",
       "      <td>34.7</td>\n",
       "    </tr>\n",
       "    <tr>\n",
       "      <th>3</th>\n",
       "      <td>0.03237</td>\n",
       "      <td>0.0</td>\n",
       "      <td>2.18</td>\n",
       "      <td>0.0</td>\n",
       "      <td>0.458</td>\n",
       "      <td>6.998</td>\n",
       "      <td>45.8</td>\n",
       "      <td>6.0622</td>\n",
       "      <td>3.0</td>\n",
       "      <td>222.0</td>\n",
       "      <td>18.7</td>\n",
       "      <td>394.63</td>\n",
       "      <td>2.94</td>\n",
       "      <td>33.4</td>\n",
       "    </tr>\n",
       "    <tr>\n",
       "      <th>4</th>\n",
       "      <td>0.06905</td>\n",
       "      <td>0.0</td>\n",
       "      <td>2.18</td>\n",
       "      <td>0.0</td>\n",
       "      <td>0.458</td>\n",
       "      <td>7.147</td>\n",
       "      <td>54.2</td>\n",
       "      <td>6.0622</td>\n",
       "      <td>3.0</td>\n",
       "      <td>222.0</td>\n",
       "      <td>18.7</td>\n",
       "      <td>396.90</td>\n",
       "      <td>5.33</td>\n",
       "      <td>36.2</td>\n",
       "    </tr>\n",
       "  </tbody>\n",
       "</table>\n",
       "</div>"
      ],
      "text/plain": [
       "        0     1     2    3      4      5     6       7    8      9     10  \\\n",
       "0  0.00632  18.0  2.31  0.0  0.538  6.575  65.2  4.0900  1.0  296.0  15.3   \n",
       "1  0.02731   0.0  7.07  0.0  0.469  6.421  78.9  4.9671  2.0  242.0  17.8   \n",
       "2  0.02729   0.0  7.07  0.0  0.469  7.185  61.1  4.9671  2.0  242.0  17.8   \n",
       "3  0.03237   0.0  2.18  0.0  0.458  6.998  45.8  6.0622  3.0  222.0  18.7   \n",
       "4  0.06905   0.0  2.18  0.0  0.458  7.147  54.2  6.0622  3.0  222.0  18.7   \n",
       "\n",
       "       11    12    13  \n",
       "0  396.90  4.98  24.0  \n",
       "1  396.90  9.14  21.6  \n",
       "2  392.83  4.03  34.7  \n",
       "3  394.63  2.94  33.4  \n",
       "4  396.90  5.33  36.2  "
      ]
     },
     "execution_count": 5,
     "metadata": {},
     "output_type": "execute_result"
    }
   ],
   "source": [
    "boston_df.head()"
   ]
  },
  {
   "cell_type": "markdown",
   "id": "ba321dff",
   "metadata": {},
   "source": [
    "## Preparing the Data Frame"
   ]
  },
  {
   "cell_type": "code",
   "execution_count": 3,
   "id": "f1c6d0af",
   "metadata": {},
   "outputs": [
    {
     "data": {
      "text/html": [
       "<div>\n",
       "<style scoped>\n",
       "    .dataframe tbody tr th:only-of-type {\n",
       "        vertical-align: middle;\n",
       "    }\n",
       "\n",
       "    .dataframe tbody tr th {\n",
       "        vertical-align: top;\n",
       "    }\n",
       "\n",
       "    .dataframe thead th {\n",
       "        text-align: right;\n",
       "    }\n",
       "</style>\n",
       "<table border=\"1\" class=\"dataframe\">\n",
       "  <thead>\n",
       "    <tr style=\"text-align: right;\">\n",
       "      <th></th>\n",
       "      <th>CRIM</th>\n",
       "      <th>ZN</th>\n",
       "      <th>INDUS</th>\n",
       "      <th>CHAS</th>\n",
       "      <th>NOX</th>\n",
       "      <th>RM</th>\n",
       "      <th>AGE</th>\n",
       "      <th>DIS</th>\n",
       "      <th>RAD</th>\n",
       "      <th>TAX</th>\n",
       "      <th>PTRATIO</th>\n",
       "      <th>B</th>\n",
       "      <th>LSTAT</th>\n",
       "      <th>Price</th>\n",
       "    </tr>\n",
       "  </thead>\n",
       "  <tbody>\n",
       "    <tr>\n",
       "      <th>0</th>\n",
       "      <td>0.00632</td>\n",
       "      <td>18.0</td>\n",
       "      <td>2.31</td>\n",
       "      <td>0.0</td>\n",
       "      <td>0.538</td>\n",
       "      <td>6.575</td>\n",
       "      <td>65.2</td>\n",
       "      <td>4.0900</td>\n",
       "      <td>1.0</td>\n",
       "      <td>296.0</td>\n",
       "      <td>15.3</td>\n",
       "      <td>396.90</td>\n",
       "      <td>4.98</td>\n",
       "      <td>24.0</td>\n",
       "    </tr>\n",
       "    <tr>\n",
       "      <th>1</th>\n",
       "      <td>0.02731</td>\n",
       "      <td>0.0</td>\n",
       "      <td>7.07</td>\n",
       "      <td>0.0</td>\n",
       "      <td>0.469</td>\n",
       "      <td>6.421</td>\n",
       "      <td>78.9</td>\n",
       "      <td>4.9671</td>\n",
       "      <td>2.0</td>\n",
       "      <td>242.0</td>\n",
       "      <td>17.8</td>\n",
       "      <td>396.90</td>\n",
       "      <td>9.14</td>\n",
       "      <td>21.6</td>\n",
       "    </tr>\n",
       "    <tr>\n",
       "      <th>2</th>\n",
       "      <td>0.02729</td>\n",
       "      <td>0.0</td>\n",
       "      <td>7.07</td>\n",
       "      <td>0.0</td>\n",
       "      <td>0.469</td>\n",
       "      <td>7.185</td>\n",
       "      <td>61.1</td>\n",
       "      <td>4.9671</td>\n",
       "      <td>2.0</td>\n",
       "      <td>242.0</td>\n",
       "      <td>17.8</td>\n",
       "      <td>392.83</td>\n",
       "      <td>4.03</td>\n",
       "      <td>34.7</td>\n",
       "    </tr>\n",
       "    <tr>\n",
       "      <th>3</th>\n",
       "      <td>0.03237</td>\n",
       "      <td>0.0</td>\n",
       "      <td>2.18</td>\n",
       "      <td>0.0</td>\n",
       "      <td>0.458</td>\n",
       "      <td>6.998</td>\n",
       "      <td>45.8</td>\n",
       "      <td>6.0622</td>\n",
       "      <td>3.0</td>\n",
       "      <td>222.0</td>\n",
       "      <td>18.7</td>\n",
       "      <td>394.63</td>\n",
       "      <td>2.94</td>\n",
       "      <td>33.4</td>\n",
       "    </tr>\n",
       "    <tr>\n",
       "      <th>4</th>\n",
       "      <td>0.06905</td>\n",
       "      <td>0.0</td>\n",
       "      <td>2.18</td>\n",
       "      <td>0.0</td>\n",
       "      <td>0.458</td>\n",
       "      <td>7.147</td>\n",
       "      <td>54.2</td>\n",
       "      <td>6.0622</td>\n",
       "      <td>3.0</td>\n",
       "      <td>222.0</td>\n",
       "      <td>18.7</td>\n",
       "      <td>396.90</td>\n",
       "      <td>5.33</td>\n",
       "      <td>36.2</td>\n",
       "    </tr>\n",
       "  </tbody>\n",
       "</table>\n",
       "</div>"
      ],
      "text/plain": [
       "      CRIM    ZN  INDUS  CHAS    NOX     RM   AGE     DIS  RAD    TAX  \\\n",
       "0  0.00632  18.0   2.31   0.0  0.538  6.575  65.2  4.0900  1.0  296.0   \n",
       "1  0.02731   0.0   7.07   0.0  0.469  6.421  78.9  4.9671  2.0  242.0   \n",
       "2  0.02729   0.0   7.07   0.0  0.469  7.185  61.1  4.9671  2.0  242.0   \n",
       "3  0.03237   0.0   2.18   0.0  0.458  6.998  45.8  6.0622  3.0  222.0   \n",
       "4  0.06905   0.0   2.18   0.0  0.458  7.147  54.2  6.0622  3.0  222.0   \n",
       "\n",
       "   PTRATIO       B  LSTAT  Price  \n",
       "0     15.3  396.90   4.98   24.0  \n",
       "1     17.8  396.90   9.14   21.6  \n",
       "2     17.8  392.83   4.03   34.7  \n",
       "3     18.7  394.63   2.94   33.4  \n",
       "4     18.7  396.90   5.33   36.2  "
      ]
     },
     "execution_count": 3,
     "metadata": {},
     "output_type": "execute_result"
    }
   ],
   "source": [
    "boston_data.feature_names\n",
    "\n",
    "boston_df=pd.DataFrame(data=np.c_[boston_data['data'],boston_data['target']])\n",
    "\n",
    "column_names = boston_data['feature_names']\n",
    "\n",
    "column_names = np.insert(column_names, len(column_names), 'Price')\n",
    "\n",
    "column_names\n",
    "\n",
    "boston_df.columns = column_names\n",
    "\n",
    "boston_df.head()"
   ]
  },
  {
   "cell_type": "code",
   "execution_count": 4,
   "id": "1cfbf9ff",
   "metadata": {},
   "outputs": [
    {
     "name": "stdout",
     "output_type": "stream",
     "text": [
      "<class 'pandas.core.frame.DataFrame'>\n",
      "RangeIndex: 506 entries, 0 to 505\n",
      "Data columns (total 14 columns):\n",
      " #   Column   Non-Null Count  Dtype  \n",
      "---  ------   --------------  -----  \n",
      " 0   CRIM     506 non-null    float64\n",
      " 1   ZN       506 non-null    float64\n",
      " 2   INDUS    506 non-null    float64\n",
      " 3   CHAS     506 non-null    float64\n",
      " 4   NOX      506 non-null    float64\n",
      " 5   RM       506 non-null    float64\n",
      " 6   AGE      506 non-null    float64\n",
      " 7   DIS      506 non-null    float64\n",
      " 8   RAD      506 non-null    float64\n",
      " 9   TAX      506 non-null    float64\n",
      " 10  PTRATIO  506 non-null    float64\n",
      " 11  B        506 non-null    float64\n",
      " 12  LSTAT    506 non-null    float64\n",
      " 13  Price    506 non-null    float64\n",
      "dtypes: float64(14)\n",
      "memory usage: 55.5 KB\n"
     ]
    }
   ],
   "source": [
    "boston_df.info()"
   ]
  },
  {
   "cell_type": "markdown",
   "id": "9274b990",
   "metadata": {},
   "source": [
    "## Prepare independent and dependent variables"
   ]
  },
  {
   "cell_type": "code",
   "execution_count": 5,
   "id": "45e88534",
   "metadata": {},
   "outputs": [],
   "source": [
    "X = pd.DataFrame(boston_data.data)\n",
    "X.columns = boston_data.feature_names\n",
    "\n",
    "y = boston_data.target"
   ]
  },
  {
   "cell_type": "code",
   "execution_count": 6,
   "id": "ddb10c9b",
   "metadata": {},
   "outputs": [
    {
     "name": "stdout",
     "output_type": "stream",
     "text": [
      "X_train shape :  (354, 13)\n",
      "X_test shape  :  (152, 13)\n",
      "y_train shape :  (354,)\n",
      "y_test shape  :  (152,)\n"
     ]
    }
   ],
   "source": [
    "X_train, X_test, y_train, y_test = train_test_split(X, y, test_size =0.3, random_state = 0)\n",
    "  \n",
    "print(\"X_train shape : \", X_train.shape)\n",
    "print(\"X_test shape  : \", X_test.shape)\n",
    "print(\"y_train shape : \", y_train.shape)\n",
    "print(\"y_test shape  : \", y_test.shape)"
   ]
  },
  {
   "cell_type": "markdown",
   "id": "59f5e0a1",
   "metadata": {},
   "source": [
    "## Linear Regression without any Pre-processing"
   ]
  },
  {
   "cell_type": "code",
   "execution_count": 7,
   "id": "709aa53d",
   "metadata": {
    "scrolled": true
   },
   "outputs": [
    {
     "name": "stdout",
     "output_type": "stream",
     "text": [
      "y_train shape :  (354,)\n",
      "y_pred shape :  (152,)\n",
      "Mean Squared Error:  27.195965766883234\n",
      "Regressor Score:  0.6733825506400193\n"
     ]
    }
   ],
   "source": [
    "# Fitting Multi Linear regression model to training model\n",
    "regressor = LinearRegression()\n",
    "regressor.fit(X_train, y_train)\n",
    "  \n",
    "# predicting the test set results\n",
    "y_pred = regressor.predict(X_test)\n",
    "\n",
    "print(\"y_train shape : \", y_train.shape)\n",
    "print(\"y_pred shape : \", y_pred.shape)\n",
    "\n",
    "mse = mean_squared_error(y_test,y_pred)\n",
    "print('Mean Squared Error: ',mse)\n",
    "\n",
    "print('Regressor Score: ',regressor.score(X_test, y_test))"
   ]
  },
  {
   "cell_type": "markdown",
   "id": "438b7c01",
   "metadata": {},
   "source": [
    "## Perform correlation to identify significant variables and display on a Seaborn HeatMap"
   ]
  },
  {
   "cell_type": "code",
   "execution_count": 8,
   "id": "977e29bd",
   "metadata": {},
   "outputs": [],
   "source": [
    "boston_corr = boston_df.corr()"
   ]
  },
  {
   "cell_type": "code",
   "execution_count": 9,
   "id": "f6527bf6",
   "metadata": {},
   "outputs": [
    {
     "data": {
      "image/png": "[encoded data removed]",
      "text/plain": [
       "<Figure size 1152x432 with 2 Axes>"
      ]
     },
     "metadata": {
      "needs_background": "light"
     },
     "output_type": "display_data"
    }
   ],
   "source": [
    "plt.figure(figsize=(16, 6))\n",
    "heatmap = sns.heatmap(boston_corr,vmin=-1,vmax=1,annot=True);\n",
    "heatmap.set_title('Correlation Heatmap', fontdict={'fontsize':12}, pad=12);"
   ]
  },
  {
   "cell_type": "code",
   "execution_count": 10,
   "id": "b85e675b",
   "metadata": {},
   "outputs": [
    {
     "data": {
      "text/plain": [
       "[Text(0, 0.5, 'Price'),\n",
       " Text(0, 1.5, 'RM'),\n",
       " Text(0, 2.5, 'ZN'),\n",
       " Text(0, 3.5, 'B'),\n",
       " Text(0, 4.5, 'DIS'),\n",
       " Text(0, 5.5, 'CHAS'),\n",
       " Text(0, 6.5, 'AGE'),\n",
       " Text(0, 7.5, 'RAD'),\n",
       " Text(0, 8.5, 'CRIM'),\n",
       " Text(0, 9.5, 'NOX'),\n",
       " Text(0, 10.5, 'TAX'),\n",
       " Text(0, 11.5, 'INDUS'),\n",
       " Text(0, 12.5, 'PTRATIO'),\n",
       " Text(0, 13.5, 'LSTAT')]"
      ]
     },
     "execution_count": 10,
     "metadata": {},
     "output_type": "execute_result"
    },
    {
     "data": {
      "image/png": "[encoded data removed]",
      "text/plain": [
       "<Figure size 576x864 with 2 Axes>"
      ]
     },
     "metadata": {
      "needs_background": "light"
     },
     "output_type": "display_data"
    }
   ],
   "source": [
    "plt.figure(figsize=(8,12))\n",
    "heatmap = sns.heatmap(boston_corr[['Price']].sort_values(by='Price',ascending=False),vmin=-1,vmax=1,annot=True)\n",
    "heatmap.set_title('Features Correlating with Price', fontdict={'fontsize':18}, pad=16);\n",
    "heatmap.set_yticklabels(heatmap.get_yticklabels(),rotation=360)"
   ]
  },
  {
   "cell_type": "markdown",
   "id": "de48f2e7",
   "metadata": {},
   "source": [
    "## Retain significant variables RM and LSTAT for further modeling"
   ]
  },
  {
   "cell_type": "code",
   "execution_count": 11,
   "id": "1a32c3c7",
   "metadata": {},
   "outputs": [],
   "source": [
    "features_to_retain = ['RM','LSTAT','Price']\n",
    "\n",
    "X = pd.DataFrame(boston_df[['RM','LSTAT']])\n",
    "\n",
    "y = boston_df['Price']"
   ]
  },
  {
   "cell_type": "markdown",
   "id": "42f12f07",
   "metadata": {},
   "source": [
    "## Scale the data"
   ]
  },
  {
   "cell_type": "code",
   "execution_count": 12,
   "id": "eb477b88",
   "metadata": {},
   "outputs": [],
   "source": [
    "X = scale(X)"
   ]
  },
  {
   "cell_type": "code",
   "execution_count": 13,
   "id": "fe2c4edd",
   "metadata": {},
   "outputs": [
    {
     "name": "stdout",
     "output_type": "stream",
     "text": [
      "X_train shape :  (354, 2)\n",
      "X_test shape  :  (152, 2)\n",
      "y_train shape :  (354,)\n",
      "y_test shape  :  (152,)\n"
     ]
    }
   ],
   "source": [
    "X_train, X_test, y_train, y_test = train_test_split(X, y, test_size =0.3,\n",
    "                                                    random_state = 0)\n",
    "  \n",
    "print(\"X_train shape : \", X_train.shape)\n",
    "print(\"X_test shape  : \", X_test.shape)\n",
    "print(\"y_train shape : \", y_train.shape)\n",
    "print(\"y_test shape  : \", y_test.shape)"
   ]
  },
  {
   "cell_type": "markdown",
   "id": "63789624",
   "metadata": {},
   "source": [
    "## Perform Linear regression on significant features and scaled data"
   ]
  },
  {
   "cell_type": "code",
   "execution_count": 14,
   "id": "9c87467c",
   "metadata": {},
   "outputs": [
    {
     "name": "stdout",
     "output_type": "stream",
     "text": [
      "y_train shape :  (152,)\n",
      "y_pred shape :  (152,)\n",
      "Mean Squared Error:  32.72507169281495\n",
      "Regressor Score:  0.6069792285352372\n"
     ]
    }
   ],
   "source": [
    "# Fitting Multi Linear regression model to training model\n",
    "regressor = LinearRegression()\n",
    "regressor.fit(X_train, y_train)\n",
    "  \n",
    "# predicting the test set results\n",
    "y_pred = regressor.predict(X_test)\n",
    "\n",
    "print(\"y_train shape : \", y_test.shape)\n",
    "print(\"y_pred shape : \", y_pred.shape)\n",
    "\n",
    "from sklearn.metrics import mean_squared_error\n",
    "mse = mean_squared_error(y_test,y_pred)\n",
    "print('Mean Squared Error: ',mse)\n",
    "\n",
    "print('Regressor Score: ',regressor.score(X_test, y_test))"
   ]
  },
  {
   "cell_type": "markdown",
   "id": "6aa519e1",
   "metadata": {},
   "source": [
    "## Define a score function with Cross Validation"
   ]
  },
  {
   "cell_type": "code",
   "execution_count": 15,
   "id": "347f4785",
   "metadata": {},
   "outputs": [],
   "source": [
    "def get_cv_score(model,folds):\n",
    "    scores=cross_val_score(model,X_train,y_train,cv=folds,scoring='r2')\n",
    "    print('CV Mean:', np.mean(scores))\n",
    "    print('STD:', np.std(scores))"
   ]
  },
  {
   "cell_type": "code",
   "execution_count": 16,
   "id": "af751960",
   "metadata": {},
   "outputs": [
    {
     "name": "stdout",
     "output_type": "stream",
     "text": [
      "X_train shape :  (354, 2)\n",
      "X_test shape  :  (152, 2)\n",
      "y_train shape :  (354,)\n",
      "y_test shape  :  (152,)\n"
     ]
    }
   ],
   "source": [
    "X_train, X_test, y_train, y_test = train_test_split(X, y, test_size =0.3,random_state = 0)\n",
    "  \n",
    "print(\"X_train shape : \", X_train.shape)\n",
    "print(\"X_test shape  : \", X_test.shape)\n",
    "print(\"y_train shape : \", y_train.shape)\n",
    "print(\"y_test shape  : \", y_test.shape)"
   ]
  },
  {
   "cell_type": "markdown",
   "id": "99deacb3",
   "metadata": {},
   "source": [
    "## Identify number of folds for best model performance"
   ]
  },
  {
   "cell_type": "code",
   "execution_count": 17,
   "id": "433903d2",
   "metadata": {},
   "outputs": [
    {
     "data": {
      "text/plain": [
       "Num_Folds    2.000000\n",
       "CV_Score     0.477497\n",
       "Name: 0, dtype: float64"
      ]
     },
     "execution_count": 17,
     "metadata": {},
     "output_type": "execute_result"
    }
   ],
   "source": [
    "cross_val_df=pd.DataFrame(columns=['CV_Score'])\n",
    "for i in range(2,20):\n",
    "    cvscores = cross_val_score(regressor,X,y,cv=i)\n",
    "    cross_val_df.loc[i] = np.mean(cvscores)\n",
    "\n",
    "cross_val_df.reset_index(level=0, inplace=True)\n",
    "\n",
    "cross_val_df.columns=['Num_Folds','CV_Score']\n",
    "\n",
    "cross_val_df.sort_values(by='CV_Score',ascending=False).iloc[0]"
   ]
  },
  {
   "cell_type": "markdown",
   "id": "bbf72e26",
   "metadata": {},
   "source": [
    "## Identify score for New model with pre-processed data and Cross Validation applied"
   ]
  },
  {
   "cell_type": "code",
   "execution_count": 18,
   "id": "09f2adea",
   "metadata": {},
   "outputs": [
    {
     "name": "stdout",
     "output_type": "stream",
     "text": [
      "CV Mean: 0.6407377769167266\n",
      "STD: 0.00995922920274861\n"
     ]
    }
   ],
   "source": [
    "get_cv_score(regressor,2)"
   ]
  },
  {
   "cell_type": "markdown",
   "id": "1cc2240a",
   "metadata": {},
   "source": [
    "## Apply Lasso Regularization"
   ]
  },
  {
   "cell_type": "code",
   "execution_count": 19,
   "id": "911edb4c",
   "metadata": {},
   "outputs": [
    {
     "name": "stdout",
     "output_type": "stream",
     "text": [
      "Alpha       1.047000\n",
      "CV_Score    1.603732\n",
      "Name: 348, dtype: float64\n",
      "0.6008299857739274\n"
     ]
    }
   ],
   "source": [
    "lasso_df=pd.DataFrame(columns=['Alpha','CV_Score'])\n",
    "scores=[]\n",
    "for i in range(1,1000):\n",
    "    lassoModel = Lasso(alpha = i * 0.003, tol = 0.0925)\n",
    "    lassoModel.fit(X_train,y_train)\n",
    "    scores = cross_val_score(lassoModel,X,y,cv=10)\n",
    "    avg_score = np.mean(scores)\n",
    "    lasso_df.loc[i-1] = [i* 0.003,avg_score*100]\n",
    "\n",
    "print(lasso_df.sort_values(by='CV_Score',ascending=False).iloc[0])\n",
    "\n",
    "lassoModelChosen = Lasso(alpha=1.047,tol=0.0925)\n",
    "lassoModelChosen.fit(X_train,y_train)\n",
    "print(lassoModelChosen.score(X_test,y_test))"
   ]
  },
  {
   "cell_type": "code",
   "execution_count": 20,
   "id": "695e3f38",
   "metadata": {},
   "outputs": [
    {
     "name": "stdout",
     "output_type": "stream",
     "text": [
      "CV Mean: 0.6264960064875592\n",
      "STD: 0.013095646722784626\n",
      "CV Mean: 0.6088238955636821\n",
      "STD: 0.05004616240289338\n",
      "CV Mean: 0.6246823048554725\n",
      "STD: 0.060922401041649706\n",
      "CV Mean: 0.6207945411467062\n",
      "STD: 0.0750776781721289\n",
      "CV Mean: 0.5914375217191248\n",
      "STD: 0.13506182021554644\n",
      "CV Mean: 0.6130171852423698\n",
      "STD: 0.09275252780838888\n",
      "CV Mean: 0.6130186709002755\n",
      "STD: 0.07465218904630914\n",
      "CV Mean: 0.6034555713632481\n",
      "STD: 0.14207525296896398\n",
      "CV Mean: 0.6056019249694413\n",
      "STD: 0.10179567870436226\n"
     ]
    }
   ],
   "source": [
    "for i in range(2,11):\n",
    "    get_cv_score(lassoModelChosen,i)"
   ]
  },
  {
   "cell_type": "markdown",
   "id": "18f4aafb",
   "metadata": {},
   "source": [
    "## Find the optimal alpha with grid search and identify the best score"
   ]
  },
  {
   "cell_type": "code",
   "execution_count": 21,
   "id": "a488ea65",
   "metadata": {},
   "outputs": [
    {
     "name": "stdout",
     "output_type": "stream",
     "text": [
      "Fitting 5 folds for each of 7 candidates, totalling 35 fits\n",
      "Best Score:  0.6306491581210452\n",
      "Best Params:  {'alpha': 0.001}\n"
     ]
    }
   ],
   "source": [
    "alpha = [0.001, 0.01, 0.1, 1, 10, 100, 1000]\n",
    "param_grid = dict(alpha=alpha)\n",
    "grid = GridSearchCV(estimator=lassoModelChosen, param_grid=param_grid, scoring='r2', verbose=1, n_jobs=-1)\n",
    "grid_result = grid.fit(X_train, y_train)\n",
    "print('Best Score: ', grid_result.best_score_)\n",
    "print('Best Params: ', grid_result.best_params_)"
   ]
  },
  {
   "cell_type": "code",
   "execution_count": 22,
   "id": "5c8f7cb0",
   "metadata": {
    "scrolled": true
   },
   "outputs": [
    {
     "name": "stdout",
     "output_type": "stream",
     "text": [
      "Fitting 5 folds for each of 100 candidates, totalling 500 fits\n",
      "Best Score:  0.6306660510100729\n",
      "Best Params:  {'alpha': 0.0}\n"
     ]
    },
    {
     "name": "stderr",
     "output_type": "stream",
     "text": [
      "C:\\Users\\Akhil_S_Bhat\\Anaconda3\\lib\\site-packages\\sklearn\\model_selection\\_search.py:880: UserWarning: With alpha=0, this algorithm does not converge well. You are advised to use the LinearRegression estimator\n",
      "  self.best_estimator_.fit(X, y, **fit_params)\n",
      "C:\\Users\\Akhil_S_Bhat\\Anaconda3\\lib\\site-packages\\sklearn\\linear_model\\_coordinate_descent.py:530: UserWarning: Coordinate descent with no regularization may lead to unexpected results and is discouraged.\n",
      "  model = cd_fast.enet_coordinate_descent(\n",
      "C:\\Users\\Akhil_S_Bhat\\Anaconda3\\lib\\site-packages\\sklearn\\linear_model\\_coordinate_descent.py:530: ConvergenceWarning: Objective did not converge. You might want to increase the number of iterations. Duality gap: 5236.9981202116505, tolerance: 2775.613993573446\n",
      "  model = cd_fast.enet_coordinate_descent(\n"
     ]
    }
   ],
   "source": [
    "alpha = list(np.linspace(0,.1,100))\n",
    "param_grid = dict(alpha=alpha)\n",
    "grid = GridSearchCV(estimator=lassoModelChosen, param_grid=param_grid, scoring='r2', verbose=1, n_jobs=-1)\n",
    "grid_result = grid.fit(X_train, y_train)\n",
    "print('Best Score: ', grid_result.best_score_)\n",
    "print('Best Params: ', grid_result.best_params_)"
   ]
  },
  {
   "cell_type": "markdown",
   "id": "7fb7a320",
   "metadata": {},
   "source": [
    "## Apply Ridge Regression"
   ]
  },
  {
   "cell_type": "code",
   "execution_count": 23,
   "id": "0b762d42",
   "metadata": {},
   "outputs": [
    {
     "name": "stdout",
     "output_type": "stream",
     "text": [
      "X_train shape :  (354, 2)\n",
      "X_test shape  :  (152, 2)\n",
      "y_train shape :  (354,)\n",
      "y_test shape  :  (152,)\n"
     ]
    }
   ],
   "source": [
    "X_train, X_test, y_train, y_test = train_test_split(X, y, test_size =0.3, random_state = 0)\n",
    "  \n",
    "print(\"X_train shape : \", X_train.shape)\n",
    "print(\"X_test shape  : \", X_test.shape)\n",
    "print(\"y_train shape : \", y_train.shape)\n",
    "print(\"y_test shape  : \", y_test.shape)"
   ]
  },
  {
   "cell_type": "code",
   "execution_count": 24,
   "id": "37e40c05",
   "metadata": {},
   "outputs": [
    {
     "name": "stdout",
     "output_type": "stream",
     "text": [
      "0.6072654388825494\n"
     ]
    }
   ],
   "source": [
    "ridge_df=pd.DataFrame(columns=['Alpha','CV_Score'])\n",
    "for i in range(1,1000):\n",
    "    ridgeModel = Ridge(alpha = i * 0.003)\n",
    "    ridgeModel.fit(X_train,y_train)\n",
    "    scores = cross_val_score(ridgeModel,X,y)\n",
    "    avg_cross_val_score = np.mean(scores)\n",
    "    ridge_df.loc[i-1] = [i* 0.003,avg_cross_val_score*100]\n",
    "\n",
    "ridge_df.sort_values(by='CV_Score',ascending=False).iloc[0]\n",
    "\n",
    "ridgeModelChosen = Ridge(alpha=2.997)\n",
    "ridgeModelChosen.fit(X_train,y_train)\n",
    "print(ridgeModelChosen.score(X_test,y_test))"
   ]
  },
  {
   "cell_type": "code",
   "execution_count": 25,
   "id": "65fde50b",
   "metadata": {},
   "outputs": [
    {
     "name": "stdout",
     "output_type": "stream",
     "text": [
      "CV Mean: 0.6408847064168903\n",
      "STD: 0.008272706528271723\n",
      "CV Mean: 0.6225651673071623\n",
      "STD: 0.06280077348414334\n",
      "CV Mean: 0.6384077829447994\n",
      "STD: 0.06746023259663742\n",
      "CV Mean: 0.6309960163576\n",
      "STD: 0.10533033102000784\n",
      "CV Mean: 0.601217155515762\n",
      "STD: 0.1587792006648835\n",
      "CV Mean: 0.6223886046654498\n",
      "STD: 0.11761047454988481\n",
      "CV Mean: 0.6226867458761481\n",
      "STD: 0.08860445350977088\n",
      "CV Mean: 0.6126530782768503\n",
      "STD: 0.17073066815547583\n",
      "CV Mean: 0.6124914258508676\n",
      "STD: 0.131519332521023\n"
     ]
    }
   ],
   "source": [
    "for i in range(2,11):\n",
    "    get_cv_score(ridgeModelChosen,i)"
   ]
  },
  {
   "cell_type": "markdown",
   "id": "cd811c1d",
   "metadata": {},
   "source": [
    "## Find the optimal alpha with grid search and identify the best score"
   ]
  },
  {
   "cell_type": "code",
   "execution_count": 26,
   "id": "eb920358",
   "metadata": {},
   "outputs": [
    {
     "name": "stdout",
     "output_type": "stream",
     "text": [
      "Fitting 5 folds for each of 7 candidates, totalling 35 fits\n",
      "Best Score:  0.6315064716085635\n",
      "Best Params:  {'alpha': 10}\n"
     ]
    }
   ],
   "source": [
    "# find optimal alpha with grid search\n",
    "alpha = [0.001, 0.01, 0.1, 1, 10, 100, 1000]\n",
    "param_grid = dict(alpha=alpha)\n",
    "grid = GridSearchCV(estimator=ridgeModelChosen, param_grid=param_grid, scoring='r2', verbose=1, n_jobs=-1)\n",
    "grid_result = grid.fit(X_train, y_train)\n",
    "print('Best Score: ', grid_result.best_score_)\n",
    "print('Best Params: ', grid_result.best_params_)"
   ]
  },
  {
   "cell_type": "code",
   "execution_count": 27,
   "id": "30e2e4f1",
   "metadata": {},
   "outputs": [
    {
     "name": "stdout",
     "output_type": "stream",
     "text": [
      "Fitting 5 folds for each of 100 candidates, totalling 500 fits\n",
      "Best Score:  0.6307839330565718\n",
      "Best Params:  {'alpha': 1.0}\n"
     ]
    }
   ],
   "source": [
    "alpha = list(np.linspace(0,1,100))\n",
    "param_grid = dict(alpha=alpha)\n",
    "grid = GridSearchCV(estimator=ridgeModelChosen, param_grid=param_grid, scoring='r2', verbose=1, n_jobs=-1)\n",
    "grid_result = grid.fit(X_train, y_train)\n",
    "print('Best Score: ', grid_result.best_score_)\n",
    "print('Best Params: ', grid_result.best_params_)"
   ]
  }
 ],
 "metadata": {
  "kernelspec": {
   "display_name": "Python 3",
   "language": "python",
   "name": "python3"
  },
  "language_info": {
   "codemirror_mode": {
    "name": "ipython",
    "version": 3
   },
   "file_extension": ".py",
   "mimetype": "text/x-python",
   "name": "python",
   "nbconvert_exporter": "python",
   "pygments_lexer": "ipython3",
   "version": "3.8.8"
  }
 },
 "nbformat": 4,
 "nbformat_minor": 5
}
