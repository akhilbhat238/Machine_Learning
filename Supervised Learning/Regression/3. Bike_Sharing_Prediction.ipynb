{
 "cells": [
  {
   "cell_type": "code",
   "execution_count": 2,
   "id": "23be78ba",
   "metadata": {},
   "outputs": [],
   "source": [
    "import numpy as np\n",
    "import pandas as pd\n",
    "import matplotlib.pyplot as plt"
   ]
  },
  {
   "cell_type": "code",
   "execution_count": 3,
   "id": "0660dab4",
   "metadata": {},
   "outputs": [],
   "source": [
    "train_data = pd.read_csv('C:\\\\Users\\\\Akhil_S_Bhat\\\\Documents\\\\AIML\\\\Machine_Learning\\\\Supervised Learning\\\\Classification\\\\Data\\\\4_Bike_Sharing_Data\\\\train.csv')"
   ]
  },
  {
   "cell_type": "code",
   "execution_count": 4,
   "id": "cc316301",
   "metadata": {},
   "outputs": [],
   "source": [
    "test_data = pd.read_csv('C:\\\\Users\\\\Akhil_S_Bhat\\\\Documents\\\\AIML\\\\Machine_Learning\\\\Supervised Learning\\\\Classification\\\\Data\\\\4_Bike_Sharing_Data\\\\test.csv')"
   ]
  },
  {
   "cell_type": "code",
   "execution_count": 5,
   "id": "9913fa18",
   "metadata": {},
   "outputs": [
    {
     "data": {
      "text/html": [
       "<div>\n",
       "<style scoped>\n",
       "    .dataframe tbody tr th:only-of-type {\n",
       "        vertical-align: middle;\n",
       "    }\n",
       "\n",
       "    .dataframe tbody tr th {\n",
       "        vertical-align: top;\n",
       "    }\n",
       "\n",
       "    .dataframe thead th {\n",
       "        text-align: right;\n",
       "    }\n",
       "</style>\n",
       "<table border=\"1\" class=\"dataframe\">\n",
       "  <thead>\n",
       "    <tr style=\"text-align: right;\">\n",
       "      <th></th>\n",
       "      <th>datetime</th>\n",
       "      <th>season</th>\n",
       "      <th>holiday</th>\n",
       "      <th>workingday</th>\n",
       "      <th>weather</th>\n",
       "      <th>temp</th>\n",
       "      <th>atemp</th>\n",
       "      <th>humidity</th>\n",
       "      <th>windspeed</th>\n",
       "      <th>casual</th>\n",
       "      <th>registered</th>\n",
       "      <th>count</th>\n",
       "    </tr>\n",
       "  </thead>\n",
       "  <tbody>\n",
       "    <tr>\n",
       "      <th>0</th>\n",
       "      <td>2011-01-01 00:00:00</td>\n",
       "      <td>1</td>\n",
       "      <td>0</td>\n",
       "      <td>0</td>\n",
       "      <td>1</td>\n",
       "      <td>9.84</td>\n",
       "      <td>14.395</td>\n",
       "      <td>81</td>\n",
       "      <td>0.0</td>\n",
       "      <td>3</td>\n",
       "      <td>13</td>\n",
       "      <td>16</td>\n",
       "    </tr>\n",
       "    <tr>\n",
       "      <th>1</th>\n",
       "      <td>2011-01-01 01:00:00</td>\n",
       "      <td>1</td>\n",
       "      <td>0</td>\n",
       "      <td>0</td>\n",
       "      <td>1</td>\n",
       "      <td>9.02</td>\n",
       "      <td>13.635</td>\n",
       "      <td>80</td>\n",
       "      <td>0.0</td>\n",
       "      <td>8</td>\n",
       "      <td>32</td>\n",
       "      <td>40</td>\n",
       "    </tr>\n",
       "    <tr>\n",
       "      <th>2</th>\n",
       "      <td>2011-01-01 02:00:00</td>\n",
       "      <td>1</td>\n",
       "      <td>0</td>\n",
       "      <td>0</td>\n",
       "      <td>1</td>\n",
       "      <td>9.02</td>\n",
       "      <td>13.635</td>\n",
       "      <td>80</td>\n",
       "      <td>0.0</td>\n",
       "      <td>5</td>\n",
       "      <td>27</td>\n",
       "      <td>32</td>\n",
       "    </tr>\n",
       "    <tr>\n",
       "      <th>3</th>\n",
       "      <td>2011-01-01 03:00:00</td>\n",
       "      <td>1</td>\n",
       "      <td>0</td>\n",
       "      <td>0</td>\n",
       "      <td>1</td>\n",
       "      <td>9.84</td>\n",
       "      <td>14.395</td>\n",
       "      <td>75</td>\n",
       "      <td>0.0</td>\n",
       "      <td>3</td>\n",
       "      <td>10</td>\n",
       "      <td>13</td>\n",
       "    </tr>\n",
       "    <tr>\n",
       "      <th>4</th>\n",
       "      <td>2011-01-01 04:00:00</td>\n",
       "      <td>1</td>\n",
       "      <td>0</td>\n",
       "      <td>0</td>\n",
       "      <td>1</td>\n",
       "      <td>9.84</td>\n",
       "      <td>14.395</td>\n",
       "      <td>75</td>\n",
       "      <td>0.0</td>\n",
       "      <td>0</td>\n",
       "      <td>1</td>\n",
       "      <td>1</td>\n",
       "    </tr>\n",
       "  </tbody>\n",
       "</table>\n",
       "</div>"
      ],
      "text/plain": [
       "              datetime  season  holiday  workingday  weather  temp   atemp  \\\n",
       "0  2011-01-01 00:00:00       1        0           0        1  9.84  14.395   \n",
       "1  2011-01-01 01:00:00       1        0           0        1  9.02  13.635   \n",
       "2  2011-01-01 02:00:00       1        0           0        1  9.02  13.635   \n",
       "3  2011-01-01 03:00:00       1        0           0        1  9.84  14.395   \n",
       "4  2011-01-01 04:00:00       1        0           0        1  9.84  14.395   \n",
       "\n",
       "   humidity  windspeed  casual  registered  count  \n",
       "0        81        0.0       3          13     16  \n",
       "1        80        0.0       8          32     40  \n",
       "2        80        0.0       5          27     32  \n",
       "3        75        0.0       3          10     13  \n",
       "4        75        0.0       0           1      1  "
      ]
     },
     "execution_count": 5,
     "metadata": {},
     "output_type": "execute_result"
    }
   ],
   "source": [
    "train_data.head()"
   ]
  },
  {
   "cell_type": "code",
   "execution_count": 6,
   "id": "d2ed667d",
   "metadata": {},
   "outputs": [],
   "source": [
    "train_data['year']=pd.DatetimeIndex(train_data['datetime']).year\n",
    "\n",
    "train_data['month']=pd.DatetimeIndex(train_data['datetime']).month\n",
    "train_data['day']=pd.DatetimeIndex(train_data['datetime']).day\n",
    "\n",
    "train_data['hour']=pd.DatetimeIndex(train_data['datetime']).hour"
   ]
  },
  {
   "cell_type": "code",
   "execution_count": 7,
   "id": "3b2c7cb2",
   "metadata": {},
   "outputs": [
    {
     "name": "stdout",
     "output_type": "stream",
     "text": [
      "<class 'pandas.core.frame.DataFrame'>\n",
      "RangeIndex: 10886 entries, 0 to 10885\n",
      "Data columns (total 16 columns):\n",
      " #   Column      Non-Null Count  Dtype  \n",
      "---  ------      --------------  -----  \n",
      " 0   datetime    10886 non-null  object \n",
      " 1   season      10886 non-null  int64  \n",
      " 2   holiday     10886 non-null  int64  \n",
      " 3   workingday  10886 non-null  int64  \n",
      " 4   weather     10886 non-null  int64  \n",
      " 5   temp        10886 non-null  float64\n",
      " 6   atemp       10886 non-null  float64\n",
      " 7   humidity    10886 non-null  int64  \n",
      " 8   windspeed   10886 non-null  float64\n",
      " 9   casual      10886 non-null  int64  \n",
      " 10  registered  10886 non-null  int64  \n",
      " 11  count       10886 non-null  int64  \n",
      " 12  year        10886 non-null  int64  \n",
      " 13  month       10886 non-null  int64  \n",
      " 14  day         10886 non-null  int64  \n",
      " 15  hour        10886 non-null  int64  \n",
      "dtypes: float64(3), int64(12), object(1)\n",
      "memory usage: 1.3+ MB\n"
     ]
    }
   ],
   "source": [
    "train_data.info()"
   ]
  },
  {
   "cell_type": "code",
   "execution_count": 8,
   "id": "5d2235f2",
   "metadata": {},
   "outputs": [],
   "source": [
    "X = train_data[['holiday','workingday','temp','humidity','windspeed','day','month','year','hour']]"
   ]
  },
  {
   "cell_type": "code",
   "execution_count": 9,
   "id": "37dcf193",
   "metadata": {},
   "outputs": [],
   "source": [
    "y=train_data['count']"
   ]
  },
  {
   "cell_type": "code",
   "execution_count": 10,
   "id": "477739cf",
   "metadata": {},
   "outputs": [
    {
     "name": "stdout",
     "output_type": "stream",
     "text": [
      "(10886, 9)\n",
      "(10886,)\n"
     ]
    }
   ],
   "source": [
    "print(X.shape)\n",
    "print(y.shape)"
   ]
  },
  {
   "cell_type": "code",
   "execution_count": 11,
   "id": "46cf9193",
   "metadata": {},
   "outputs": [],
   "source": [
    "from sklearn.tree import DecisionTreeRegressor\n",
    "from sklearn.model_selection import train_test_split\n",
    "from sklearn.metrics import mean_squared_error\n",
    "from sklearn.model_selection import cross_val_score\n",
    "from sklearn.ensemble import RandomForestRegressor"
   ]
  },
  {
   "cell_type": "code",
   "execution_count": 12,
   "id": "86580339",
   "metadata": {},
   "outputs": [],
   "source": [
    "X_train, X_test, y_train, y_test = train_test_split(X,y,test_size=0.2,random_state=42)"
   ]
  },
  {
   "cell_type": "code",
   "execution_count": 13,
   "id": "3d2f8653",
   "metadata": {},
   "outputs": [
    {
     "name": "stdout",
     "output_type": "stream",
     "text": [
      "Test set RMSE: 128.69815580545725\n"
     ]
    }
   ],
   "source": [
    "dt = DecisionTreeRegressor(max_depth=8,min_samples_leaf=0.13,random_state=3)\n",
    "dt.fit(X_train,y_train)\n",
    "y_pred = dt.predict(X_test)\n",
    "mse_dt = mean_squared_error(y_pred,y_test)\n",
    "rmse_dt = (mse_dt) ** (1/2)\n",
    "print('Test set RMSE:',rmse_dt)"
   ]
  },
  {
   "cell_type": "markdown",
   "id": "13126932",
   "metadata": {},
   "source": [
    "## Cross Validation"
   ]
  },
  {
   "cell_type": "code",
   "execution_count": 14,
   "id": "12719df5",
   "metadata": {},
   "outputs": [
    {
     "name": "stdout",
     "output_type": "stream",
     "text": [
      "CV RMSE:  130.61447085285437\n"
     ]
    }
   ],
   "source": [
    "MSE_CV_Scores = - cross_val_score(dt,X_train,y_train,cv=10,scoring='neg_mean_squared_error',n_jobs=-1)\n",
    "RMSE_CV = (MSE_CV_Scores.mean()) ** (1/2)\n",
    "print('CV RMSE: ',RMSE_CV)"
   ]
  },
  {
   "cell_type": "code",
   "execution_count": 15,
   "id": "3d0749c5",
   "metadata": {},
   "outputs": [
    {
     "name": "stdout",
     "output_type": "stream",
     "text": [
      "Train set RMSE: 130.18939065048772\n"
     ]
    }
   ],
   "source": [
    "dt.fit(X_train,y_train)\n",
    "y_pred_train = dt.predict(X_train)\n",
    "RMSE_train = (mean_squared_error(y_train,y_pred_train))**(1/2)\n",
    "print('Train set RMSE:',RMSE_train)"
   ]
  },
  {
   "cell_type": "code",
   "execution_count": 16,
   "id": "2c84f7ac",
   "metadata": {},
   "outputs": [
    {
     "name": "stdout",
     "output_type": "stream",
     "text": [
      "Test set RMSE: 128.69815580545725\n"
     ]
    }
   ],
   "source": [
    "dt.fit(X_train,y_train)\n",
    "y_pred_test = dt.predict(X_test)\n",
    "RMSE_train = (mean_squared_error(y_test,y_pred_test))**(1/2)\n",
    "print('Test set RMSE:',RMSE_train)"
   ]
  },
  {
   "cell_type": "markdown",
   "id": "b95b7a69",
   "metadata": {},
   "source": [
    "## Random Forest"
   ]
  },
  {
   "cell_type": "code",
   "execution_count": 17,
   "id": "a7c8840a",
   "metadata": {},
   "outputs": [
    {
     "data": {
      "text/plain": [
       "RandomForestRegressor(n_estimators=25, random_state=2)"
      ]
     },
     "execution_count": 17,
     "metadata": {},
     "output_type": "execute_result"
    }
   ],
   "source": [
    "rf = RandomForestRegressor(n_estimators=25,random_state=2)\n",
    "rf.fit(X_train,y_train)"
   ]
  },
  {
   "cell_type": "code",
   "execution_count": 18,
   "id": "db544860",
   "metadata": {},
   "outputs": [
    {
     "name": "stdout",
     "output_type": "stream",
     "text": [
      "Test set RMSE:  46.03632691048051\n"
     ]
    }
   ],
   "source": [
    "y_pred = rf.predict(X_test)\n",
    "rmse_test = mean_squared_error(y_test,y_pred) ** (1/2)\n",
    "print('Test set RMSE: ',rmse_test)"
   ]
  },
  {
   "cell_type": "code",
   "execution_count": 19,
   "id": "aa8e76d5",
   "metadata": {
    "scrolled": true
   },
   "outputs": [
    {
     "data": {
      "image/png": "[encoded data removed]",
      "text/plain": [
       "<Figure size 432x288 with 1 Axes>"
      ]
     },
     "metadata": {
      "needs_background": "light"
     },
     "output_type": "display_data"
    }
   ],
   "source": [
    "importances = pd.Series(data=rf.feature_importances_,index=X_train.columns)\n",
    "importances_sorted = importances.sort_values()\n",
    "importances_sorted.plot(kind='barh',color='lightgreen')\n",
    "plt.title('Feature Importance')\n",
    "plt.show()"
   ]
  },
  {
   "cell_type": "markdown",
   "id": "12558e0d",
   "metadata": {},
   "source": [
    "## Gradient Boosting"
   ]
  },
  {
   "cell_type": "code",
   "execution_count": 20,
   "id": "b8b7b0cf",
   "metadata": {},
   "outputs": [
    {
     "name": "stdout",
     "output_type": "stream",
     "text": [
      "Gradient Boosting Test Set RMSE:  50.55285889436003\n"
     ]
    }
   ],
   "source": [
    "from sklearn.ensemble import GradientBoostingRegressor\n",
    "gbt = GradientBoostingRegressor(n_estimators = 200,\n",
    "            max_depth = 4,\n",
    "            random_state=2)\n",
    "gbt.fit(X_train,y_train)\n",
    "y_pred = gbt.predict(X_test)\n",
    "rmse_test = mean_squared_error(y_test,y_pred) ** (1/2)\n",
    "print('Gradient Boosting Test Set RMSE: ',rmse_test)"
   ]
  },
  {
   "cell_type": "code",
   "execution_count": 21,
   "id": "e1e3bf37",
   "metadata": {},
   "outputs": [
    {
     "name": "stdout",
     "output_type": "stream",
     "text": [
      "Stochastic Gradient Booosting Test Set RMSE:  49.074443464744476\n"
     ]
    }
   ],
   "source": [
    "sgbt = GradientBoostingRegressor(max_depth=4, \n",
    "            subsample=0.9,\n",
    "            max_features=0.75,\n",
    "            n_estimators=200,                                \n",
    "            random_state=2)\n",
    "sgbt.fit(X_train,y_train)\n",
    "y_pred = sgbt.predict(X_test)\n",
    "rmse_test = mean_squared_error(y_test,y_pred) ** (1/2)\n",
    "print('Stochastic Gradient Booosting Test Set RMSE: ',rmse_test)"
   ]
  },
  {
   "cell_type": "markdown",
   "id": "ca3d8471",
   "metadata": {},
   "source": [
    "## Hypermeter Tuning with GridSearchCV"
   ]
  },
  {
   "cell_type": "code",
   "execution_count": 22,
   "id": "f6696df6",
   "metadata": {},
   "outputs": [],
   "source": [
    "from sklearn.model_selection import GridSearchCV\n",
    "rf = RandomForestRegressor(random_state=1)"
   ]
  },
  {
   "cell_type": "code",
   "execution_count": 23,
   "id": "ad84d9fa",
   "metadata": {},
   "outputs": [],
   "source": [
    "params_rf = {'n_estimators':[100,350,500],'max_features':['log2','auto','sqrt'],'min_samples_leaf':[2,10,30]}"
   ]
  },
  {
   "cell_type": "code",
   "execution_count": 24,
   "id": "9c7cc574",
   "metadata": {},
   "outputs": [],
   "source": [
    "grid_rf = GridSearchCV(estimator=rf,\n",
    "                       param_grid=params_rf,\n",
    "                       scoring='neg_mean_squared_error',\n",
    "                       cv=3,\n",
    "                       verbose=1,\n",
    "                       n_jobs=-1)"
   ]
  },
  {
   "cell_type": "code",
   "execution_count": 25,
   "id": "d6bd9920",
   "metadata": {},
   "outputs": [
    {
     "name": "stdout",
     "output_type": "stream",
     "text": [
      "Fitting 3 folds for each of 27 candidates, totalling 81 fits\n"
     ]
    },
    {
     "data": {
      "text/plain": [
       "GridSearchCV(cv=3, estimator=RandomForestRegressor(random_state=1), n_jobs=-1,\n",
       "             param_grid={'max_features': ['log2', 'auto', 'sqrt'],\n",
       "                         'min_samples_leaf': [2, 10, 30],\n",
       "                         'n_estimators': [100, 350, 500]},\n",
       "             scoring='neg_mean_squared_error', verbose=1)"
      ]
     },
     "execution_count": 25,
     "metadata": {},
     "output_type": "execute_result"
    }
   ],
   "source": [
    "grid_rf.fit(X_train,y_train)"
   ]
  },
  {
   "cell_type": "code",
   "execution_count": 26,
   "id": "12097b62",
   "metadata": {},
   "outputs": [
    {
     "name": "stdout",
     "output_type": "stream",
     "text": [
      "Test RMSE of best model: 45.275\n"
     ]
    }
   ],
   "source": [
    "from sklearn.metrics import mean_squared_error as MSE\n",
    "best_model = grid_rf.best_estimator_\n",
    "y_pred = best_model.predict(X_test)\n",
    "rmse_test = MSE(y_test,y_pred) ** (1/2)\n",
    "print('Test RMSE of best model: {:.3f}'.format(rmse_test)) "
   ]
  },
  {
   "cell_type": "code",
   "execution_count": 27,
   "id": "3f03d664",
   "metadata": {},
   "outputs": [
    {
     "name": "stdout",
     "output_type": "stream",
     "text": [
      "Best Hyperparameters:  {'max_features': 'auto', 'min_samples_leaf': 2, 'n_estimators': 350}\n"
     ]
    }
   ],
   "source": [
    "best_hyperparams = grid_rf.best_params_\n",
    "print('Best Hyperparameters: ',best_hyperparams)"
   ]
  },
  {
   "cell_type": "code",
   "execution_count": 28,
   "id": "907b3910",
   "metadata": {},
   "outputs": [
    {
     "name": "stdout",
     "output_type": "stream",
     "text": [
      "Test set RMSE:  45.27541907081069\n"
     ]
    }
   ],
   "source": [
    "best_model = grid_rf.best_estimator_\n",
    "y_pred = best_model.predict(X_test)\n",
    "rmse_test = mean_squared_error(y_test,y_pred)**(1/2)\n",
    "print('Test set RMSE: ',rmse_test)"
   ]
  },
  {
   "cell_type": "markdown",
   "id": "6249ad5e",
   "metadata": {},
   "source": [
    "## Predicting on unseen Data"
   ]
  },
  {
   "cell_type": "code",
   "execution_count": 29,
   "id": "66c5d93d",
   "metadata": {
    "scrolled": true
   },
   "outputs": [
    {
     "data": {
      "text/html": [
       "<div>\n",
       "<style scoped>\n",
       "    .dataframe tbody tr th:only-of-type {\n",
       "        vertical-align: middle;\n",
       "    }\n",
       "\n",
       "    .dataframe tbody tr th {\n",
       "        vertical-align: top;\n",
       "    }\n",
       "\n",
       "    .dataframe thead th {\n",
       "        text-align: right;\n",
       "    }\n",
       "</style>\n",
       "<table border=\"1\" class=\"dataframe\">\n",
       "  <thead>\n",
       "    <tr style=\"text-align: right;\">\n",
       "      <th></th>\n",
       "      <th>datetime</th>\n",
       "      <th>season</th>\n",
       "      <th>holiday</th>\n",
       "      <th>workingday</th>\n",
       "      <th>weather</th>\n",
       "      <th>temp</th>\n",
       "      <th>atemp</th>\n",
       "      <th>humidity</th>\n",
       "      <th>windspeed</th>\n",
       "    </tr>\n",
       "  </thead>\n",
       "  <tbody>\n",
       "    <tr>\n",
       "      <th>0</th>\n",
       "      <td>2011-01-20 00:00:00</td>\n",
       "      <td>1</td>\n",
       "      <td>0</td>\n",
       "      <td>1</td>\n",
       "      <td>1</td>\n",
       "      <td>10.66</td>\n",
       "      <td>11.365</td>\n",
       "      <td>56</td>\n",
       "      <td>26.0027</td>\n",
       "    </tr>\n",
       "    <tr>\n",
       "      <th>1</th>\n",
       "      <td>2011-01-20 01:00:00</td>\n",
       "      <td>1</td>\n",
       "      <td>0</td>\n",
       "      <td>1</td>\n",
       "      <td>1</td>\n",
       "      <td>10.66</td>\n",
       "      <td>13.635</td>\n",
       "      <td>56</td>\n",
       "      <td>0.0000</td>\n",
       "    </tr>\n",
       "    <tr>\n",
       "      <th>2</th>\n",
       "      <td>2011-01-20 02:00:00</td>\n",
       "      <td>1</td>\n",
       "      <td>0</td>\n",
       "      <td>1</td>\n",
       "      <td>1</td>\n",
       "      <td>10.66</td>\n",
       "      <td>13.635</td>\n",
       "      <td>56</td>\n",
       "      <td>0.0000</td>\n",
       "    </tr>\n",
       "    <tr>\n",
       "      <th>3</th>\n",
       "      <td>2011-01-20 03:00:00</td>\n",
       "      <td>1</td>\n",
       "      <td>0</td>\n",
       "      <td>1</td>\n",
       "      <td>1</td>\n",
       "      <td>10.66</td>\n",
       "      <td>12.880</td>\n",
       "      <td>56</td>\n",
       "      <td>11.0014</td>\n",
       "    </tr>\n",
       "    <tr>\n",
       "      <th>4</th>\n",
       "      <td>2011-01-20 04:00:00</td>\n",
       "      <td>1</td>\n",
       "      <td>0</td>\n",
       "      <td>1</td>\n",
       "      <td>1</td>\n",
       "      <td>10.66</td>\n",
       "      <td>12.880</td>\n",
       "      <td>56</td>\n",
       "      <td>11.0014</td>\n",
       "    </tr>\n",
       "  </tbody>\n",
       "</table>\n",
       "</div>"
      ],
      "text/plain": [
       "              datetime  season  holiday  workingday  weather   temp   atemp  \\\n",
       "0  2011-01-20 00:00:00       1        0           1        1  10.66  11.365   \n",
       "1  2011-01-20 01:00:00       1        0           1        1  10.66  13.635   \n",
       "2  2011-01-20 02:00:00       1        0           1        1  10.66  13.635   \n",
       "3  2011-01-20 03:00:00       1        0           1        1  10.66  12.880   \n",
       "4  2011-01-20 04:00:00       1        0           1        1  10.66  12.880   \n",
       "\n",
       "   humidity  windspeed  \n",
       "0        56    26.0027  \n",
       "1        56     0.0000  \n",
       "2        56     0.0000  \n",
       "3        56    11.0014  \n",
       "4        56    11.0014  "
      ]
     },
     "execution_count": 29,
     "metadata": {},
     "output_type": "execute_result"
    }
   ],
   "source": [
    "test_data.head()"
   ]
  },
  {
   "cell_type": "code",
   "execution_count": 30,
   "id": "429dbc19",
   "metadata": {},
   "outputs": [],
   "source": [
    "test_data['year']=pd.DatetimeIndex(test_data['datetime']).year\n",
    "\n",
    "test_data['month']=pd.DatetimeIndex(test_data['datetime']).month\n",
    "test_data['day']=pd.DatetimeIndex(test_data['datetime']).day\n",
    "\n",
    "test_data['hour']=pd.DatetimeIndex(test_data['datetime']).hour"
   ]
  },
  {
   "cell_type": "code",
   "execution_count": 31,
   "id": "6c32fd17",
   "metadata": {},
   "outputs": [],
   "source": [
    "X_unseen = test_data[['holiday','workingday','temp','humidity','windspeed','day','month','year','hour']]"
   ]
  },
  {
   "cell_type": "code",
   "execution_count": 32,
   "id": "333c4201",
   "metadata": {},
   "outputs": [],
   "source": [
    "rf_updated = RandomForestRegressor(random_state=1,max_features= 'log2',min_samples_leaf=2, n_estimators=350)"
   ]
  },
  {
   "cell_type": "code",
   "execution_count": 33,
   "id": "974b6312",
   "metadata": {},
   "outputs": [
    {
     "data": {
      "text/plain": [
       "RandomForestRegressor(max_features='log2', min_samples_leaf=2, n_estimators=350,\n",
       "                      random_state=1)"
      ]
     },
     "execution_count": 33,
     "metadata": {},
     "output_type": "execute_result"
    }
   ],
   "source": [
    "rf_updated.fit(X_train,y_train)"
   ]
  },
  {
   "cell_type": "code",
   "execution_count": 34,
   "id": "6747ef81",
   "metadata": {},
   "outputs": [],
   "source": [
    "y_unseen = rf_updated.predict(X_unseen)"
   ]
  },
  {
   "cell_type": "code",
   "execution_count": 35,
   "id": "93c7ffce",
   "metadata": {},
   "outputs": [],
   "source": [
    "test_data['count'] = y_unseen"
   ]
  },
  {
   "cell_type": "code",
   "execution_count": 36,
   "id": "f8e1a7f5",
   "metadata": {},
   "outputs": [],
   "source": [
    "test_data['count'] = test_data['count'].astype(int)"
   ]
  },
  {
   "cell_type": "code",
   "execution_count": 37,
   "id": "10ecbd2b",
   "metadata": {},
   "outputs": [],
   "source": [
    "import datetime as dt"
   ]
  },
  {
   "cell_type": "code",
   "execution_count": 38,
   "id": "809b5e94",
   "metadata": {},
   "outputs": [],
   "source": [
    "test_data['date'] = pd.to_datetime(test_data['datetime']).dt.date"
   ]
  },
  {
   "cell_type": "code",
   "execution_count": 39,
   "id": "3fa06fda",
   "metadata": {
    "scrolled": true
   },
   "outputs": [
    {
     "data": {
      "text/html": [
       "<div>\n",
       "<style scoped>\n",
       "    .dataframe tbody tr th:only-of-type {\n",
       "        vertical-align: middle;\n",
       "    }\n",
       "\n",
       "    .dataframe tbody tr th {\n",
       "        vertical-align: top;\n",
       "    }\n",
       "\n",
       "    .dataframe thead th {\n",
       "        text-align: right;\n",
       "    }\n",
       "</style>\n",
       "<table border=\"1\" class=\"dataframe\">\n",
       "  <thead>\n",
       "    <tr style=\"text-align: right;\">\n",
       "      <th></th>\n",
       "      <th>datetime</th>\n",
       "      <th>season</th>\n",
       "      <th>holiday</th>\n",
       "      <th>workingday</th>\n",
       "      <th>weather</th>\n",
       "      <th>temp</th>\n",
       "      <th>atemp</th>\n",
       "      <th>humidity</th>\n",
       "      <th>windspeed</th>\n",
       "      <th>year</th>\n",
       "      <th>month</th>\n",
       "      <th>day</th>\n",
       "      <th>hour</th>\n",
       "      <th>count</th>\n",
       "      <th>date</th>\n",
       "    </tr>\n",
       "  </thead>\n",
       "  <tbody>\n",
       "    <tr>\n",
       "      <th>0</th>\n",
       "      <td>2011-01-20 00:00:00</td>\n",
       "      <td>1</td>\n",
       "      <td>0</td>\n",
       "      <td>1</td>\n",
       "      <td>1</td>\n",
       "      <td>10.66</td>\n",
       "      <td>11.365</td>\n",
       "      <td>56</td>\n",
       "      <td>26.0027</td>\n",
       "      <td>2011</td>\n",
       "      <td>1</td>\n",
       "      <td>20</td>\n",
       "      <td>0</td>\n",
       "      <td>17</td>\n",
       "      <td>2011-01-20</td>\n",
       "    </tr>\n",
       "    <tr>\n",
       "      <th>1</th>\n",
       "      <td>2011-01-20 01:00:00</td>\n",
       "      <td>1</td>\n",
       "      <td>0</td>\n",
       "      <td>1</td>\n",
       "      <td>1</td>\n",
       "      <td>10.66</td>\n",
       "      <td>13.635</td>\n",
       "      <td>56</td>\n",
       "      <td>0.0000</td>\n",
       "      <td>2011</td>\n",
       "      <td>1</td>\n",
       "      <td>20</td>\n",
       "      <td>1</td>\n",
       "      <td>13</td>\n",
       "      <td>2011-01-20</td>\n",
       "    </tr>\n",
       "    <tr>\n",
       "      <th>2</th>\n",
       "      <td>2011-01-20 02:00:00</td>\n",
       "      <td>1</td>\n",
       "      <td>0</td>\n",
       "      <td>1</td>\n",
       "      <td>1</td>\n",
       "      <td>10.66</td>\n",
       "      <td>13.635</td>\n",
       "      <td>56</td>\n",
       "      <td>0.0000</td>\n",
       "      <td>2011</td>\n",
       "      <td>1</td>\n",
       "      <td>20</td>\n",
       "      <td>2</td>\n",
       "      <td>11</td>\n",
       "      <td>2011-01-20</td>\n",
       "    </tr>\n",
       "    <tr>\n",
       "      <th>3</th>\n",
       "      <td>2011-01-20 03:00:00</td>\n",
       "      <td>1</td>\n",
       "      <td>0</td>\n",
       "      <td>1</td>\n",
       "      <td>1</td>\n",
       "      <td>10.66</td>\n",
       "      <td>12.880</td>\n",
       "      <td>56</td>\n",
       "      <td>11.0014</td>\n",
       "      <td>2011</td>\n",
       "      <td>1</td>\n",
       "      <td>20</td>\n",
       "      <td>3</td>\n",
       "      <td>9</td>\n",
       "      <td>2011-01-20</td>\n",
       "    </tr>\n",
       "    <tr>\n",
       "      <th>4</th>\n",
       "      <td>2011-01-20 04:00:00</td>\n",
       "      <td>1</td>\n",
       "      <td>0</td>\n",
       "      <td>1</td>\n",
       "      <td>1</td>\n",
       "      <td>10.66</td>\n",
       "      <td>12.880</td>\n",
       "      <td>56</td>\n",
       "      <td>11.0014</td>\n",
       "      <td>2011</td>\n",
       "      <td>1</td>\n",
       "      <td>20</td>\n",
       "      <td>4</td>\n",
       "      <td>8</td>\n",
       "      <td>2011-01-20</td>\n",
       "    </tr>\n",
       "  </tbody>\n",
       "</table>\n",
       "</div>"
      ],
      "text/plain": [
       "              datetime  season  holiday  workingday  weather   temp   atemp  \\\n",
       "0  2011-01-20 00:00:00       1        0           1        1  10.66  11.365   \n",
       "1  2011-01-20 01:00:00       1        0           1        1  10.66  13.635   \n",
       "2  2011-01-20 02:00:00       1        0           1        1  10.66  13.635   \n",
       "3  2011-01-20 03:00:00       1        0           1        1  10.66  12.880   \n",
       "4  2011-01-20 04:00:00       1        0           1        1  10.66  12.880   \n",
       "\n",
       "   humidity  windspeed  year  month  day  hour  count        date  \n",
       "0        56    26.0027  2011      1   20     0     17  2011-01-20  \n",
       "1        56     0.0000  2011      1   20     1     13  2011-01-20  \n",
       "2        56     0.0000  2011      1   20     2     11  2011-01-20  \n",
       "3        56    11.0014  2011      1   20     3      9  2011-01-20  \n",
       "4        56    11.0014  2011      1   20     4      8  2011-01-20  "
      ]
     },
     "execution_count": 39,
     "metadata": {},
     "output_type": "execute_result"
    }
   ],
   "source": [
    "test_data.head()"
   ]
  },
  {
   "cell_type": "code",
   "execution_count": 40,
   "id": "fbc4b710",
   "metadata": {},
   "outputs": [],
   "source": [
    "date_count_data = test_data[['date','count']]"
   ]
  },
  {
   "cell_type": "code",
   "execution_count": 41,
   "id": "b82a4d13",
   "metadata": {},
   "outputs": [
    {
     "data": {
      "text/html": [
       "<div>\n",
       "<style scoped>\n",
       "    .dataframe tbody tr th:only-of-type {\n",
       "        vertical-align: middle;\n",
       "    }\n",
       "\n",
       "    .dataframe tbody tr th {\n",
       "        vertical-align: top;\n",
       "    }\n",
       "\n",
       "    .dataframe thead th {\n",
       "        text-align: right;\n",
       "    }\n",
       "</style>\n",
       "<table border=\"1\" class=\"dataframe\">\n",
       "  <thead>\n",
       "    <tr style=\"text-align: right;\">\n",
       "      <th></th>\n",
       "      <th>date</th>\n",
       "      <th>count</th>\n",
       "    </tr>\n",
       "  </thead>\n",
       "  <tbody>\n",
       "    <tr>\n",
       "      <th>0</th>\n",
       "      <td>2011-01-20</td>\n",
       "      <td>17</td>\n",
       "    </tr>\n",
       "    <tr>\n",
       "      <th>1</th>\n",
       "      <td>2011-01-20</td>\n",
       "      <td>13</td>\n",
       "    </tr>\n",
       "    <tr>\n",
       "      <th>2</th>\n",
       "      <td>2011-01-20</td>\n",
       "      <td>11</td>\n",
       "    </tr>\n",
       "    <tr>\n",
       "      <th>3</th>\n",
       "      <td>2011-01-20</td>\n",
       "      <td>9</td>\n",
       "    </tr>\n",
       "    <tr>\n",
       "      <th>4</th>\n",
       "      <td>2011-01-20</td>\n",
       "      <td>8</td>\n",
       "    </tr>\n",
       "  </tbody>\n",
       "</table>\n",
       "</div>"
      ],
      "text/plain": [
       "         date  count\n",
       "0  2011-01-20     17\n",
       "1  2011-01-20     13\n",
       "2  2011-01-20     11\n",
       "3  2011-01-20      9\n",
       "4  2011-01-20      8"
      ]
     },
     "execution_count": 41,
     "metadata": {},
     "output_type": "execute_result"
    }
   ],
   "source": [
    "date_count_data.head()"
   ]
  },
  {
   "cell_type": "code",
   "execution_count": 42,
   "id": "d7141461",
   "metadata": {},
   "outputs": [],
   "source": [
    "date_count_group = date_count_data.groupby(['date']).sum()"
   ]
  },
  {
   "cell_type": "code",
   "execution_count": 43,
   "id": "48264ec5",
   "metadata": {},
   "outputs": [],
   "source": [
    "date_count_group =  date_count_group.reset_index()"
   ]
  },
  {
   "cell_type": "code",
   "execution_count": 44,
   "id": "089a9d9c",
   "metadata": {},
   "outputs": [
    {
     "data": {
      "text/html": [
       "<div>\n",
       "<style scoped>\n",
       "    .dataframe tbody tr th:only-of-type {\n",
       "        vertical-align: middle;\n",
       "    }\n",
       "\n",
       "    .dataframe tbody tr th {\n",
       "        vertical-align: top;\n",
       "    }\n",
       "\n",
       "    .dataframe thead th {\n",
       "        text-align: right;\n",
       "    }\n",
       "</style>\n",
       "<table border=\"1\" class=\"dataframe\">\n",
       "  <thead>\n",
       "    <tr style=\"text-align: right;\">\n",
       "      <th></th>\n",
       "      <th>date</th>\n",
       "      <th>count</th>\n",
       "    </tr>\n",
       "  </thead>\n",
       "  <tbody>\n",
       "    <tr>\n",
       "      <th>0</th>\n",
       "      <td>2011-01-20</td>\n",
       "      <td>1741</td>\n",
       "    </tr>\n",
       "    <tr>\n",
       "      <th>1</th>\n",
       "      <td>2011-01-21</td>\n",
       "      <td>1595</td>\n",
       "    </tr>\n",
       "    <tr>\n",
       "      <th>2</th>\n",
       "      <td>2011-01-22</td>\n",
       "      <td>1262</td>\n",
       "    </tr>\n",
       "    <tr>\n",
       "      <th>3</th>\n",
       "      <td>2011-01-23</td>\n",
       "      <td>1234</td>\n",
       "    </tr>\n",
       "    <tr>\n",
       "      <th>4</th>\n",
       "      <td>2011-01-24</td>\n",
       "      <td>1525</td>\n",
       "    </tr>\n",
       "  </tbody>\n",
       "</table>\n",
       "</div>"
      ],
      "text/plain": [
       "         date  count\n",
       "0  2011-01-20   1741\n",
       "1  2011-01-21   1595\n",
       "2  2011-01-22   1262\n",
       "3  2011-01-23   1234\n",
       "4  2011-01-24   1525"
      ]
     },
     "execution_count": 44,
     "metadata": {},
     "output_type": "execute_result"
    }
   ],
   "source": [
    "date_count_group.head()"
   ]
  },
  {
   "cell_type": "code",
   "execution_count": 45,
   "id": "16d8446d",
   "metadata": {},
   "outputs": [
    {
     "data": {
      "image/png": "[encoded data removed]",
      "text/plain": [
       "<Figure size 432x288 with 1 Axes>"
      ]
     },
     "metadata": {
      "needs_background": "light"
     },
     "output_type": "display_data"
    }
   ],
   "source": [
    "plt.plot(date_count_group['date'],date_count_group['count'])\n",
    "plt.xticks(rotation=45)\n",
    "plt.show()"
   ]
  },
  {
   "cell_type": "markdown",
   "id": "9dbcaf46",
   "metadata": {},
   "source": [
    "## XG Boost"
   ]
  },
  {
   "cell_type": "code",
   "execution_count": 47,
   "id": "0afbd5e2",
   "metadata": {},
   "outputs": [
    {
     "name": "stdout",
     "output_type": "stream",
     "text": [
      "<class 'pandas.core.frame.DataFrame'>\n",
      "RangeIndex: 10886 entries, 0 to 10885\n",
      "Data columns (total 9 columns):\n",
      " #   Column      Non-Null Count  Dtype  \n",
      "---  ------      --------------  -----  \n",
      " 0   holiday     10886 non-null  int64  \n",
      " 1   workingday  10886 non-null  int64  \n",
      " 2   temp        10886 non-null  float64\n",
      " 3   humidity    10886 non-null  int64  \n",
      " 4   windspeed   10886 non-null  float64\n",
      " 5   day         10886 non-null  int64  \n",
      " 6   month       10886 non-null  int64  \n",
      " 7   year        10886 non-null  int64  \n",
      " 8   hour        10886 non-null  int64  \n",
      "dtypes: float64(2), int64(7)\n",
      "memory usage: 765.5 KB\n"
     ]
    }
   ],
   "source": [
    "X.info()"
   ]
  },
  {
   "cell_type": "code",
   "execution_count": 48,
   "id": "a08d8b66",
   "metadata": {},
   "outputs": [],
   "source": [
    "def NormalizeData(data):\n",
    "    return (data - np.min(data)) / (np.max(data) - np.min(data))"
   ]
  },
  {
   "cell_type": "code",
   "execution_count": 49,
   "id": "a303b34c",
   "metadata": {},
   "outputs": [],
   "source": [
    "import warnings\n",
    "warnings.filterwarnings('ignore')\n",
    "scaled_X = NormalizeData(X)\n",
    "\n",
    "scaled_y = NormalizeData(y)\n",
    "\n",
    "X_train, X_test, y_train, y_test = train_test_split(scaled_X, scaled_y, test_size =0.3, random_state = 31)"
   ]
  },
  {
   "cell_type": "markdown",
   "id": "4fa72342",
   "metadata": {},
   "source": [
    "## XGBoost using Tree Based Learners"
   ]
  },
  {
   "cell_type": "code",
   "execution_count": 50,
   "id": "4b252d22",
   "metadata": {},
   "outputs": [],
   "source": [
    "import xgboost as xgb"
   ]
  },
  {
   "cell_type": "code",
   "execution_count": 51,
   "id": "7e9f084a",
   "metadata": {},
   "outputs": [
    {
     "name": "stdout",
     "output_type": "stream",
     "text": [
      "RMSE: 0.059673\n"
     ]
    }
   ],
   "source": [
    "warnings.filterwarnings('ignore')\n",
    "xg_reg = xgb.XGBRegressor(objective='reg:squarederror',seed=123,n_estimators=10)\n",
    "xg_reg.fit(X_train,y_train)\n",
    "preds = xg_reg.predict(X_test)\n",
    "rmse = np.sqrt(mean_squared_error(preds,y_test))\n",
    "print('RMSE: %f' %(rmse))"
   ]
  },
  {
   "cell_type": "markdown",
   "id": "a5933ebb",
   "metadata": {},
   "source": [
    "## XG Boost using Linear Base Learners"
   ]
  },
  {
   "cell_type": "code",
   "execution_count": 52,
   "id": "12b686c2",
   "metadata": {},
   "outputs": [
    {
     "name": "stdout",
     "output_type": "stream",
     "text": [
      "RMSE: 0.402925\n"
     ]
    }
   ],
   "source": [
    "DM_train = xgb.DMatrix(data=X_train,label=y_train)\n",
    "DM_test = xgb.DMatrix(data=X_test,label=y_test)\n",
    "params = {'booster':'gblinear','objective':'reg:squarederror'}\n",
    "xg_reg = xgb.train(dtrain=DM_train,params=params,num_boost_round=5)\n",
    "preds = xg_reg.predict(DM_test)\n",
    "rmse = np.sqrt(mean_squared_error(y_test,preds))\n",
    "print('RMSE: %f' %(rmse))"
   ]
  },
  {
   "cell_type": "markdown",
   "id": "da0262a9",
   "metadata": {},
   "source": [
    "## XG Boost with Cross Validation"
   ]
  },
  {
   "cell_type": "code",
   "execution_count": 53,
   "id": "451cd91b",
   "metadata": {},
   "outputs": [
    {
     "name": "stdout",
     "output_type": "stream",
     "text": [
      "4    0.117708\n",
      "Name: test-rmse-mean, dtype: float64\n"
     ]
    }
   ],
   "source": [
    "warnings.filterwarnings('ignore')\n",
    "housing_dmatrix = xgb.DMatrix(data=scaled_X,label=scaled_y)\n",
    "params={'objective':'reg:squarederror','max_depth':4}\n",
    "cv_results = xgb.cv(dtrain=housing_dmatrix,params=params,nfold=4,num_boost_round=5,metrics='rmse',as_pandas=True,seed=123)\n",
    "print(cv_results['test-rmse-mean'].tail(1))"
   ]
  },
  {
   "cell_type": "code",
   "execution_count": 54,
   "id": "e3b0e48f",
   "metadata": {},
   "outputs": [
    {
     "name": "stdout",
     "output_type": "stream",
     "text": [
      "4    0.098584\n",
      "Name: test-mae-mean, dtype: float64\n"
     ]
    }
   ],
   "source": [
    "cv_results = xgb.cv(dtrain=housing_dmatrix, params=params, nfold=4, num_boost_round=5, metrics='mae', as_pandas=True, seed=123)\n",
    "print(cv_results['test-mae-mean'].tail(1))"
   ]
  },
  {
   "cell_type": "markdown",
   "id": "b8eaf0e3",
   "metadata": {},
   "source": [
    "## Adding L2 Regularization to XG Boost model"
   ]
  },
  {
   "cell_type": "code",
   "execution_count": 55,
   "id": "e1705c6e",
   "metadata": {},
   "outputs": [
    {
     "name": "stdout",
     "output_type": "stream",
     "text": [
      "    l2      rmse\n",
      "0    1  0.117708\n",
      "1   10  0.121194\n",
      "2  100  0.128895\n"
     ]
    }
   ],
   "source": [
    "housing_dmatrix = xgb.DMatrix(data=scaled_X,label=scaled_y)\n",
    "reg_params = [1,10,100]\n",
    "params = {'objective':'reg:squarederror','max_depth':4}\n",
    "rmse_l2 = []\n",
    "for reg in reg_params:\n",
    "    params['lambda'] = reg\n",
    "    cv_results_rmse = xgb.cv(dtrain=housing_dmatrix,params=params,nfold=4,num_boost_round=5,metrics='rmse',as_pandas=True,seed=123)\n",
    "    rmse_l2.append(cv_results_rmse['test-rmse-mean'].tail(1).values[0])\n",
    "    \n",
    "print(pd.DataFrame(list(zip(reg_params,rmse_l2)),columns=['l2','rmse']))    "
   ]
  },
  {
   "cell_type": "code",
   "execution_count": 56,
   "id": "ae8ec14f",
   "metadata": {},
   "outputs": [
    {
     "data": {
      "image/png": "[encoded data removed]",
      "text/plain": [
       "<Figure size 432x288 with 1 Axes>"
      ]
     },
     "metadata": {
      "needs_background": "light"
     },
     "output_type": "display_data"
    }
   ],
   "source": [
    "xg_reg = xgb.train(params=params,dtrain=housing_dmatrix,num_boost_round=5)\n",
    "xgb.plot_importance(xg_reg)\n",
    "plt.show()"
   ]
  },
  {
   "cell_type": "markdown",
   "id": "9b0fea71",
   "metadata": {},
   "source": [
    "## Hyperparamter Tuning with Random search"
   ]
  },
  {
   "cell_type": "code",
   "execution_count": 57,
   "id": "e0a3504e",
   "metadata": {},
   "outputs": [],
   "source": [
    "gbm_param_grid={\n",
    "    'colsample_bytree':np.linspace(0,1,25).tolist(),\n",
    "    'n_estimators' : np.arange(10,50).tolist(),\n",
    "    'max_depth': np.arange(2,6).tolist()\n",
    "}"
   ]
  },
  {
   "cell_type": "code",
   "execution_count": 58,
   "id": "290eb177",
   "metadata": {},
   "outputs": [],
   "source": [
    "gbm = xgb.XGBRegressor(n_estimators=10)"
   ]
  },
  {
   "cell_type": "code",
   "execution_count": 60,
   "id": "74ae2ec6",
   "metadata": {},
   "outputs": [],
   "source": [
    "from sklearn.model_selection import RandomizedSearchCV"
   ]
  },
  {
   "cell_type": "code",
   "execution_count": 61,
   "id": "7fe330f6",
   "metadata": {},
   "outputs": [],
   "source": [
    "randomized_mse = RandomizedSearchCV(estimator=gbm,param_distributions=gbm_param_grid,scoring='neg_mean_squared_error',n_iter=5,cv=4,verbose=1)"
   ]
  },
  {
   "cell_type": "code",
   "execution_count": 62,
   "id": "f4162b7f",
   "metadata": {},
   "outputs": [
    {
     "name": "stdout",
     "output_type": "stream",
     "text": [
      "Fitting 4 folds for each of 5 candidates, totalling 20 fits\n"
     ]
    },
    {
     "data": {
      "text/plain": [
       "RandomizedSearchCV(cv=4,\n",
       "                   estimator=XGBRegressor(base_score=None, booster=None,\n",
       "                                          colsample_bylevel=None,\n",
       "                                          colsample_bynode=None,\n",
       "                                          colsample_bytree=None,\n",
       "                                          enable_categorical=False, gamma=None,\n",
       "                                          gpu_id=None, importance_type=None,\n",
       "                                          interaction_constraints=None,\n",
       "                                          learning_rate=None,\n",
       "                                          max_delta_step=None, max_depth=None,\n",
       "                                          min_child_weight=None, missing=nan,\n",
       "                                          monotone_constraints=...\n",
       "                                                             0.5416666666666666,\n",
       "                                                             0.5833333333333333,\n",
       "                                                             0.625,\n",
       "                                                             0.6666666666666666,\n",
       "                                                             0.7083333333333333,\n",
       "                                                             0.75,\n",
       "                                                             0.7916666666666666,\n",
       "                                                             0.8333333333333333,\n",
       "                                                             0.875,\n",
       "                                                             0.9166666666666666,\n",
       "                                                             0.9583333333333333,\n",
       "                                                             1.0],\n",
       "                                        'max_depth': [2, 3, 4, 5],\n",
       "                                        'n_estimators': [10, 11, 12, 13, 14, 15,\n",
       "                                                         16, 17, 18, 19, 20, 21,\n",
       "                                                         22, 23, 24, 25, 26, 27,\n",
       "                                                         28, 29, 30, 31, 32, 33,\n",
       "                                                         34, 35, 36, 37, 38, 39, ...]},\n",
       "                   scoring='neg_mean_squared_error', verbose=1)"
      ]
     },
     "execution_count": 62,
     "metadata": {},
     "output_type": "execute_result"
    }
   ],
   "source": [
    "randomized_mse.fit(scaled_X,scaled_y)"
   ]
  },
  {
   "cell_type": "code",
   "execution_count": 63,
   "id": "c33e554e",
   "metadata": {},
   "outputs": [
    {
     "name": "stdout",
     "output_type": "stream",
     "text": [
      "Best parameters found:  {'n_estimators': 43, 'max_depth': 3, 'colsample_bytree': 0.625}\n",
      "Lowest RMSE found:  0.08793500324927059\n"
     ]
    }
   ],
   "source": [
    "print(\"Best parameters found: \", randomized_mse.best_params_)\n",
    "print(\"Lowest RMSE found: \", np.sqrt(np.abs(randomized_mse.best_score_)))"
   ]
  }
 ],
 "metadata": {
  "kernelspec": {
   "display_name": "Python 3 (ipykernel)",
   "language": "python",
   "name": "python3"
  },
  "language_info": {
   "codemirror_mode": {
    "name": "ipython",
    "version": 3
   },
   "file_extension": ".py",
   "mimetype": "text/x-python",
   "name": "python",
   "nbconvert_exporter": "python",
   "pygments_lexer": "ipython3",
   "version": "3.9.10"
  }
 },
 "nbformat": 4,
 "nbformat_minor": 5
}
